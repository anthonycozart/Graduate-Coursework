{
 "cells": [
  {
   "cell_type": "markdown",
   "metadata": {},
   "source": [
    "# SI 618 WN 2018 - Lab 3: Pandorable Analysis"
   ]
  },
  {
   "cell_type": "markdown",
   "metadata": {},
   "source": [
    "## Objectives\n",
    "1. Data manipulations: pivot, pivot_tables, stack, unstack, join\n",
    "2. Introduction to Seaborn\n",
    "3. Correlation, covariance, ordinary least squares (OLS) regression\n",
    "4. Chi-square\n",
    "5. T-tests and ANOVA"
   ]
  },
  {
   "cell_type": "markdown",
   "metadata": {},
   "source": [
    "## Please fill in...\n",
    "### * Your name:\n",
    "### * People you worked with:  [If you didn't work with anyone, write \"I worked by myself\" here]"
   ]
  },
  {
   "cell_type": "markdown",
   "metadata": {},
   "source": [
    "## Preface\n",
    "This lab consists of two parts. Part 1 is based on a comic character dataset and Part 2 uses the U.S. crime dataset.  Part 1 is more focused on analysis of categorical data, and Part 2 analysis of continuous data."
   ]
  },
  {
   "cell_type": "markdown",
   "metadata": {},
   "source": [
    "# Part 1: Comic Characters in DC and Marvel"
   ]
  },
  {
   "cell_type": "markdown",
   "metadata": {},
   "source": [
    "## Description\n",
    "\n",
    "We need to download [\"comic_characters.csv\"](https://drive.google.com/open?id=0B1PllrCY3xLZN3ptYnlGRXhybGM) dataset. The original dataset is available at [\"Comic Books Are Still Made By Men, For Men And About Men\"](http://fivethirtyeight.com/features/women-in-comic-books/)."
   ]
  },
  {
   "cell_type": "markdown",
   "metadata": {},
   "source": [
    "## Metadata\n",
    "Here's a description of the fields available in this dataset.\n",
    "\n",
    "| Field | Description |\n",
    "| --- | --- |\n",
    "| publisher | Comic publisher: e.g., DC Comics or Marvel.| \n",
    "| name | The name of the character.|\n",
    "| identity | The identity statusof the character (Secret Identity, Public identity, [on marvel only: No Dual Identity]).|\n",
    "| align | If the character is Good, Bad or Neutral.|\n",
    "| eye | Eye color of the character.|\n",
    "| hair | Hair color of the character.|\n",
    "| sex | Sex of the character (e.g. Male, Female, etc.)|\n",
    "| alive | If the character is alive or deceased.|\n",
    "| appearances | The number of appareances of the character in comic books.|\n",
    "| first_appearance | The month and year of the character’s first appearance in a comic book, if available.|\n",
    "| month | The month of the character’s first appearance in a comic book, if available.|\n",
    "| year | The year of the character’s first appearance in a comic book, if available.|\n",
    "| date | The date of the character’s first appearance in a comic book, if available.|"
   ]
  },
  {
   "cell_type": "markdown",
   "metadata": {},
   "source": [
    "## Getting started"
   ]
  },
  {
   "cell_type": "markdown",
   "metadata": {},
   "source": [
    "First, let's import the NumPy and pandas libraries, and get ready to do some plotting:"
   ]
  },
  {
   "cell_type": "code",
   "execution_count": 193,
   "metadata": {
    "collapsed": true
   },
   "outputs": [],
   "source": [
    "import numpy as np\n",
    "import pandas as pd"
   ]
  },
  {
   "cell_type": "markdown",
   "metadata": {},
   "source": [
    "Next, we should load the dataset as we did with other datasets before, though this time we use the column \"id\" as the index as we load our dataframe."
   ]
  },
  {
   "cell_type": "code",
   "execution_count": 196,
   "metadata": {},
   "outputs": [
    {
     "data": {
      "text/html": [
       "<div>\n",
       "<style>\n",
       "    .dataframe thead tr:only-child th {\n",
       "        text-align: right;\n",
       "    }\n",
       "\n",
       "    .dataframe thead th {\n",
       "        text-align: left;\n",
       "    }\n",
       "\n",
       "    .dataframe tbody tr th {\n",
       "        vertical-align: top;\n",
       "    }\n",
       "</style>\n",
       "<table border=\"1\" class=\"dataframe\">\n",
       "  <thead>\n",
       "    <tr style=\"text-align: right;\">\n",
       "      <th></th>\n",
       "      <th>publisher</th>\n",
       "      <th>name</th>\n",
       "      <th>Identity</th>\n",
       "      <th>align</th>\n",
       "      <th>eye</th>\n",
       "      <th>hair</th>\n",
       "      <th>sex</th>\n",
       "      <th>alive</th>\n",
       "      <th>appearances</th>\n",
       "      <th>first_appearance</th>\n",
       "      <th>month</th>\n",
       "      <th>year</th>\n",
       "      <th>date</th>\n",
       "    </tr>\n",
       "    <tr>\n",
       "      <th>id</th>\n",
       "      <th></th>\n",
       "      <th></th>\n",
       "      <th></th>\n",
       "      <th></th>\n",
       "      <th></th>\n",
       "      <th></th>\n",
       "      <th></th>\n",
       "      <th></th>\n",
       "      <th></th>\n",
       "      <th></th>\n",
       "      <th></th>\n",
       "      <th></th>\n",
       "      <th></th>\n",
       "    </tr>\n",
       "  </thead>\n",
       "  <tbody>\n",
       "    <tr>\n",
       "      <th>1</th>\n",
       "      <td>Marvel</td>\n",
       "      <td>Spider-Man (Peter Parker)</td>\n",
       "      <td>Secret Identity</td>\n",
       "      <td>Good Characters</td>\n",
       "      <td>Hazel Eyes</td>\n",
       "      <td>Brown Hair</td>\n",
       "      <td>Male Characters</td>\n",
       "      <td>Living Characters</td>\n",
       "      <td>4043.0</td>\n",
       "      <td>1962, August</td>\n",
       "      <td>August</td>\n",
       "      <td>1962.0</td>\n",
       "      <td>8/1/1962</td>\n",
       "    </tr>\n",
       "  </tbody>\n",
       "</table>\n",
       "</div>"
      ],
      "text/plain": [
       "   publisher                       name         Identity            align  \\\n",
       "id                                                                          \n",
       "1     Marvel  Spider-Man (Peter Parker)  Secret Identity  Good Characters   \n",
       "\n",
       "           eye        hair              sex              alive  appearances  \\\n",
       "id                                                                            \n",
       "1   Hazel Eyes  Brown Hair  Male Characters  Living Characters       4043.0   \n",
       "\n",
       "   first_appearance   month    year      date  \n",
       "id                                             \n",
       "1      1962, August  August  1962.0  8/1/1962  "
      ]
     },
     "execution_count": 196,
     "metadata": {},
     "output_type": "execute_result"
    }
   ],
   "source": [
    "comicCharacters = pd.read_csv(\"comic_characters.csv\", index_col=\"id\")\n",
    "comicCharacters.head(1)"
   ]
  },
  {
   "cell_type": "markdown",
   "metadata": {
    "collapsed": true
   },
   "source": [
    "There are two points to consider in the head of the dataframe:\n",
    "* We have already defined \"id\" as the index.\n",
    "* Compare the values in each column and the description of the column in the previous cell."
   ]
  },
  {
   "cell_type": "markdown",
   "metadata": {},
   "source": [
    "# Pivot, Pivot Tables, Stack, and Unstack"
   ]
  },
  {
   "cell_type": "markdown",
   "metadata": {},
   "source": [
    "## Review of Group By"
   ]
  },
  {
   "cell_type": "markdown",
   "metadata": {},
   "source": [
    "### <font color=\"magenta\">Q1: What is the total number of appearances of characters for each publisher?"
   ]
  },
  {
   "cell_type": "code",
   "execution_count": 197,
   "metadata": {
    "scrolled": false
   },
   "outputs": [
    {
     "data": {
      "text/html": [
       "<div>\n",
       "<style>\n",
       "    .dataframe thead tr:only-child th {\n",
       "        text-align: right;\n",
       "    }\n",
       "\n",
       "    .dataframe thead th {\n",
       "        text-align: left;\n",
       "    }\n",
       "\n",
       "    .dataframe tbody tr th {\n",
       "        vertical-align: top;\n",
       "    }\n",
       "</style>\n",
       "<table border=\"1\" class=\"dataframe\">\n",
       "  <thead>\n",
       "    <tr style=\"text-align: right;\">\n",
       "      <th></th>\n",
       "      <th>appearances</th>\n",
       "    </tr>\n",
       "    <tr>\n",
       "      <th>publisher</th>\n",
       "      <th></th>\n",
       "    </tr>\n",
       "  </thead>\n",
       "  <tbody>\n",
       "    <tr>\n",
       "      <th>DC</th>\n",
       "      <td>154532.0</td>\n",
       "    </tr>\n",
       "    <tr>\n",
       "      <th>Marvel</th>\n",
       "      <td>260270.0</td>\n",
       "    </tr>\n",
       "  </tbody>\n",
       "</table>\n",
       "</div>"
      ],
      "text/plain": [
       "           appearances\n",
       "publisher             \n",
       "DC            154532.0\n",
       "Marvel        260270.0"
      ]
     },
     "execution_count": 197,
     "metadata": {},
     "output_type": "execute_result"
    }
   ],
   "source": [
    "a = comicCharacters.groupby('publisher')[['appearances']].sum()\n",
    "a.head()"
   ]
  },
  {
   "cell_type": "markdown",
   "metadata": {},
   "source": [
    "## Unstack"
   ]
  },
  {
   "cell_type": "markdown",
   "metadata": {},
   "source": [
    "### <font color=\"magenta\">Q2: What is the total number of appearances of characters by each publisher in each year? Output a table."
   ]
  },
  {
   "cell_type": "markdown",
   "metadata": {},
   "source": [
    "Comparing this question to Q1, you probably know to group them by both publisher and year."
   ]
  },
  {
   "cell_type": "code",
   "execution_count": 198,
   "metadata": {},
   "outputs": [
    {
     "data": {
      "text/html": [
       "<div>\n",
       "<style>\n",
       "    .dataframe thead tr:only-child th {\n",
       "        text-align: right;\n",
       "    }\n",
       "\n",
       "    .dataframe thead th {\n",
       "        text-align: left;\n",
       "    }\n",
       "\n",
       "    .dataframe tbody tr th {\n",
       "        vertical-align: top;\n",
       "    }\n",
       "</style>\n",
       "<table border=\"1\" class=\"dataframe\">\n",
       "  <thead>\n",
       "    <tr style=\"text-align: right;\">\n",
       "      <th></th>\n",
       "      <th></th>\n",
       "      <th>appearances</th>\n",
       "    </tr>\n",
       "    <tr>\n",
       "      <th>year</th>\n",
       "      <th>publisher</th>\n",
       "      <th></th>\n",
       "    </tr>\n",
       "  </thead>\n",
       "  <tbody>\n",
       "    <tr>\n",
       "      <th>1935.0</th>\n",
       "      <th>DC</th>\n",
       "      <td>125.0</td>\n",
       "    </tr>\n",
       "    <tr>\n",
       "      <th>1936.0</th>\n",
       "      <th>DC</th>\n",
       "      <td>240.0</td>\n",
       "    </tr>\n",
       "    <tr>\n",
       "      <th>1937.0</th>\n",
       "      <th>DC</th>\n",
       "      <td>458.0</td>\n",
       "    </tr>\n",
       "    <tr>\n",
       "      <th>1938.0</th>\n",
       "      <th>DC</th>\n",
       "      <td>1639.0</td>\n",
       "    </tr>\n",
       "    <tr>\n",
       "      <th>1939.0</th>\n",
       "      <th>DC</th>\n",
       "      <td>4067.0</td>\n",
       "    </tr>\n",
       "  </tbody>\n",
       "</table>\n",
       "</div>"
      ],
      "text/plain": [
       "                  appearances\n",
       "year   publisher             \n",
       "1935.0 DC               125.0\n",
       "1936.0 DC               240.0\n",
       "1937.0 DC               458.0\n",
       "1938.0 DC              1639.0\n",
       "1939.0 DC              4067.0"
      ]
     },
     "execution_count": 198,
     "metadata": {},
     "output_type": "execute_result"
    }
   ],
   "source": [
    "b = comicCharacters.groupby(['year','publisher']).sum().fillna(0)\n",
    "b.head()"
   ]
  },
  {
   "cell_type": "markdown",
   "metadata": {},
   "source": [
    "As you can see from the output, however, it can be hard to compare the number of appearances of characters between the two publishers DC and Marvel. In this case, we can use .unstack() to move the innermost index \"publisher\" to become the innermost column."
   ]
  },
  {
   "cell_type": "code",
   "execution_count": 200,
   "metadata": {},
   "outputs": [
    {
     "data": {
      "text/html": [
       "<div>\n",
       "<style>\n",
       "    .dataframe thead tr:only-child th {\n",
       "        text-align: right;\n",
       "    }\n",
       "\n",
       "    .dataframe thead th {\n",
       "        text-align: left;\n",
       "    }\n",
       "\n",
       "    .dataframe tbody tr th {\n",
       "        vertical-align: top;\n",
       "    }\n",
       "</style>\n",
       "<table border=\"1\" class=\"dataframe\">\n",
       "  <thead>\n",
       "    <tr>\n",
       "      <th></th>\n",
       "      <th colspan=\"2\" halign=\"left\">appearances</th>\n",
       "    </tr>\n",
       "    <tr>\n",
       "      <th>publisher</th>\n",
       "      <th>DC</th>\n",
       "      <th>Marvel</th>\n",
       "    </tr>\n",
       "    <tr>\n",
       "      <th>year</th>\n",
       "      <th></th>\n",
       "      <th></th>\n",
       "    </tr>\n",
       "  </thead>\n",
       "  <tbody>\n",
       "    <tr>\n",
       "      <th>1935.0</th>\n",
       "      <td>125.0</td>\n",
       "      <td>0.0</td>\n",
       "    </tr>\n",
       "    <tr>\n",
       "      <th>1936.0</th>\n",
       "      <td>240.0</td>\n",
       "      <td>0.0</td>\n",
       "    </tr>\n",
       "    <tr>\n",
       "      <th>1937.0</th>\n",
       "      <td>458.0</td>\n",
       "      <td>0.0</td>\n",
       "    </tr>\n",
       "    <tr>\n",
       "      <th>1938.0</th>\n",
       "      <td>1639.0</td>\n",
       "      <td>0.0</td>\n",
       "    </tr>\n",
       "    <tr>\n",
       "      <th>1939.0</th>\n",
       "      <td>4067.0</td>\n",
       "      <td>1013.0</td>\n",
       "    </tr>\n",
       "    <tr>\n",
       "      <th>1940.0</th>\n",
       "      <td>9123.0</td>\n",
       "      <td>2160.0</td>\n",
       "    </tr>\n",
       "    <tr>\n",
       "      <th>1941.0</th>\n",
       "      <td>6945.0</td>\n",
       "      <td>5371.0</td>\n",
       "    </tr>\n",
       "    <tr>\n",
       "      <th>1942.0</th>\n",
       "      <td>4068.0</td>\n",
       "      <td>401.0</td>\n",
       "    </tr>\n",
       "    <tr>\n",
       "      <th>1943.0</th>\n",
       "      <td>1475.0</td>\n",
       "      <td>541.0</td>\n",
       "    </tr>\n",
       "    <tr>\n",
       "      <th>1944.0</th>\n",
       "      <td>274.0</td>\n",
       "      <td>960.0</td>\n",
       "    </tr>\n",
       "  </tbody>\n",
       "</table>\n",
       "</div>"
      ],
      "text/plain": [
       "          appearances        \n",
       "publisher          DC  Marvel\n",
       "year                         \n",
       "1935.0          125.0     0.0\n",
       "1936.0          240.0     0.0\n",
       "1937.0          458.0     0.0\n",
       "1938.0         1639.0     0.0\n",
       "1939.0         4067.0  1013.0\n",
       "1940.0         9123.0  2160.0\n",
       "1941.0         6945.0  5371.0\n",
       "1942.0         4068.0   401.0\n",
       "1943.0         1475.0   541.0\n",
       "1944.0          274.0   960.0"
      ]
     },
     "execution_count": 200,
     "metadata": {},
     "output_type": "execute_result"
    }
   ],
   "source": [
    "b = comicCharacters.groupby(['year','publisher']).sum().unstack(level=1).fillna(0)\n",
    "b.head(10)"
   ]
  },
  {
   "cell_type": "markdown",
   "metadata": {},
   "source": [
    "As you can see, it is difficult to figure out any trend in appearances of characters of each publisher in each year. However, since you know data visualization, you can plot the time trend for each publisher separately and compare them."
   ]
  },
  {
   "cell_type": "markdown",
   "metadata": {},
   "source": [
    "### <font color=\"magenta\">Q3: Plot a time series of appearances over time (one time series for each publisher)."
   ]
  },
  {
   "cell_type": "code",
   "execution_count": 201,
   "metadata": {},
   "outputs": [
    {
     "data": {
      "text/plain": [
       "<matplotlib.axes._subplots.AxesSubplot at 0x1c4cc1aef0>"
      ]
     },
     "execution_count": 201,
     "metadata": {},
     "output_type": "execute_result"
    },
    {
     "data": {
      "image/png": "[encoded data removed]",
      "text/plain": [
       "<matplotlib.figure.Figure at 0x1c4d29dbe0>"
      ]
     },
     "metadata": {},
     "output_type": "display_data"
    }
   ],
   "source": [
    "b.plot()"
   ]
  },
  {
   "cell_type": "markdown",
   "metadata": {},
   "source": [
    "## Pivot Table"
   ]
  },
  {
   "cell_type": "markdown",
   "metadata": {},
   "source": [
    "### We'd like to know which publisher uses different 'identity' types for their characters? Have DC characters appeared more publicly? What is the average number of times Marvel Characters appeared known to authorities identity?"
   ]
  },
  {
   "cell_type": "markdown",
   "metadata": {},
   "source": [
    "We can use .groupby() followed by .unstack():"
   ]
  },
  {
   "cell_type": "code",
   "execution_count": 351,
   "metadata": {},
   "outputs": [
    {
     "data": {
      "text/html": [
       "<div>\n",
       "<style>\n",
       "    .dataframe thead tr:only-child th {\n",
       "        text-align: right;\n",
       "    }\n",
       "\n",
       "    .dataframe thead th {\n",
       "        text-align: left;\n",
       "    }\n",
       "\n",
       "    .dataframe tbody tr th {\n",
       "        vertical-align: top;\n",
       "    }\n",
       "</style>\n",
       "<table border=\"1\" class=\"dataframe\">\n",
       "  <thead>\n",
       "    <tr style=\"text-align: right;\">\n",
       "      <th>publisher</th>\n",
       "      <th>DC</th>\n",
       "      <th>Marvel</th>\n",
       "    </tr>\n",
       "    <tr>\n",
       "      <th>Identity</th>\n",
       "      <th></th>\n",
       "      <th></th>\n",
       "    </tr>\n",
       "  </thead>\n",
       "  <tbody>\n",
       "    <tr>\n",
       "      <th>Identity Unknown</th>\n",
       "      <td>3.000000</td>\n",
       "      <td>0.000000</td>\n",
       "    </tr>\n",
       "    <tr>\n",
       "      <th>Known to Authorities Identity</th>\n",
       "      <td>0.000000</td>\n",
       "      <td>74.400000</td>\n",
       "    </tr>\n",
       "    <tr>\n",
       "      <th>No Dual Identity</th>\n",
       "      <td>0.000000</td>\n",
       "      <td>24.402013</td>\n",
       "    </tr>\n",
       "    <tr>\n",
       "      <th>Public Identity</th>\n",
       "      <td>28.287166</td>\n",
       "      <td>23.407615</td>\n",
       "    </tr>\n",
       "    <tr>\n",
       "      <th>Secret Identity</th>\n",
       "      <td>32.655157</td>\n",
       "      <td>17.379794</td>\n",
       "    </tr>\n",
       "  </tbody>\n",
       "</table>\n",
       "</div>"
      ],
      "text/plain": [
       "publisher                             DC     Marvel\n",
       "Identity                                           \n",
       "Identity Unknown                3.000000   0.000000\n",
       "Known to Authorities Identity   0.000000  74.400000\n",
       "No Dual Identity                0.000000  24.402013\n",
       "Public Identity                28.287166  23.407615\n",
       "Secret Identity                32.655157  17.379794"
      ]
     },
     "execution_count": 351,
     "metadata": {},
     "output_type": "execute_result"
    }
   ],
   "source": [
    "comicCharacters.groupby(['Identity','publisher'])['appearances'].mean().unstack().fillna(0)"
   ]
  },
  {
   "cell_type": "markdown",
   "metadata": {},
   "source": [
    "Alternatively, we can use .pivot_table(). For example:"
   ]
  },
  {
   "cell_type": "code",
   "execution_count": 353,
   "metadata": {},
   "outputs": [
    {
     "data": {
      "text/html": [
       "<div>\n",
       "<style>\n",
       "    .dataframe thead tr:only-child th {\n",
       "        text-align: right;\n",
       "    }\n",
       "\n",
       "    .dataframe thead th {\n",
       "        text-align: left;\n",
       "    }\n",
       "\n",
       "    .dataframe tbody tr th {\n",
       "        vertical-align: top;\n",
       "    }\n",
       "</style>\n",
       "<table border=\"1\" class=\"dataframe\">\n",
       "  <thead>\n",
       "    <tr style=\"text-align: right;\">\n",
       "      <th>publisher</th>\n",
       "      <th>DC</th>\n",
       "      <th>Marvel</th>\n",
       "    </tr>\n",
       "    <tr>\n",
       "      <th>Identity</th>\n",
       "      <th></th>\n",
       "      <th></th>\n",
       "    </tr>\n",
       "  </thead>\n",
       "  <tbody>\n",
       "    <tr>\n",
       "      <th>Identity Unknown</th>\n",
       "      <td>3.000000</td>\n",
       "      <td>0.000000</td>\n",
       "    </tr>\n",
       "    <tr>\n",
       "      <th>Known to Authorities Identity</th>\n",
       "      <td>0.000000</td>\n",
       "      <td>74.400000</td>\n",
       "    </tr>\n",
       "    <tr>\n",
       "      <th>No Dual Identity</th>\n",
       "      <td>0.000000</td>\n",
       "      <td>24.402013</td>\n",
       "    </tr>\n",
       "    <tr>\n",
       "      <th>Public Identity</th>\n",
       "      <td>28.287166</td>\n",
       "      <td>23.407615</td>\n",
       "    </tr>\n",
       "    <tr>\n",
       "      <th>Secret Identity</th>\n",
       "      <td>32.655157</td>\n",
       "      <td>17.379794</td>\n",
       "    </tr>\n",
       "  </tbody>\n",
       "</table>\n",
       "</div>"
      ],
      "text/plain": [
       "publisher                             DC     Marvel\n",
       "Identity                                           \n",
       "Identity Unknown                3.000000   0.000000\n",
       "Known to Authorities Identity   0.000000  74.400000\n",
       "No Dual Identity                0.000000  24.402013\n",
       "Public Identity                28.287166  23.407615\n",
       "Secret Identity                32.655157  17.379794"
      ]
     },
     "execution_count": 353,
     "metadata": {},
     "output_type": "execute_result"
    }
   ],
   "source": [
    "#                 Marvel   DC \n",
    "# Identity\n",
    "# Identity Unknown\n",
    "# No Dual Identity\n",
    "# ...\n",
    "avg_appearance_per_identity = comicCharacters.pivot_table(index='Identity', \n",
    "                                                          columns='publisher', \n",
    "                                                          values='appearances',\n",
    "                                                          aggfunc='mean')\n",
    "avg_appearance_per_identity.fillna(0).head()"
   ]
  },
  {
   "cell_type": "markdown",
   "metadata": {},
   "source": [
    "For .pivot_table(), you need to specify these four arguments:\n",
    "1. index: the field that will become the index of the output table\n",
    "2. columns: the field that will become the columns of the output table\n",
    "3. values: the field to be aggregated/summarized\n",
    "4. aggfunc: the aggregation operator applied to values, if there are more than 1 entry corresponding to each (index, column) pair, such as \"mean\", \"count\", \"max\"\n",
    "    "
   ]
  },
  {
   "cell_type": "markdown",
   "metadata": {},
   "source": [
    "### <font color=\"magenta\">Q4: Which hair color has the biggest difference of total appearances between males and females? Produce the output as a single row from a DataFrame. (Hint: you can subtract a Series from another Series)"
   ]
  },
  {
   "cell_type": "markdown",
   "metadata": {},
   "source": [
    "To extract such aggregated information from the original table, using .pivot_table would come handy."
   ]
  },
  {
   "cell_type": "markdown",
   "metadata": {},
   "source": [
    "In fact, you would like a table that looks like this:\n",
    "\n",
    "\n",
    "\n",
    "| hair | Male | Female | Absolute Difference |\n",
    "| --- | --- | --- | --- |\n",
    "| Black Hair | 10 | 20 | 10 |\n",
    "| Brown Hair | 35 | 50 | 20 |\n",
    "| Blond Hair | 40 | 10 | 30 |"
   ]
  },
  {
   "cell_type": "code",
   "execution_count": 173,
   "metadata": {},
   "outputs": [
    {
     "data": {
      "text/plain": [
       "'Brown Hair'"
      ]
     },
     "execution_count": 173,
     "metadata": {},
     "output_type": "execute_result"
    }
   ],
   "source": [
    "hair_gender_diff = comicCharacters.pivot_table(index='hair', \n",
    "                                               columns='sex', \n",
    "                                               values='appearances',\n",
    "                                               aggfunc='sum').fillna(0)\n",
    "hair_gender_diff.head()\n",
    "hair_gender_diff.apply(lambda x: abs( x['Male Characters'] - x['Female Characters']), axis=1).argmax()\n"
   ]
  },
  {
   "cell_type": "markdown",
   "metadata": {},
   "source": [
    "### <font color=\"magenta\">Q5: Are there more Alive/Male characters in DC than Marvel? Do some publishers have more appearances of Living/Transgender versus Agender characters?\n",
    "\n",
    "### Produce a table that has this information (publisher/gender/living status) that shows the average number of appearances for those character types. Replace all the nulls with 0s."
   ]
  },
  {
   "cell_type": "code",
   "execution_count": 175,
   "metadata": {
    "scrolled": true
   },
   "outputs": [
    {
     "data": {
      "text/html": [
       "<div>\n",
       "<style>\n",
       "    .dataframe thead tr:only-child th {\n",
       "        text-align: right;\n",
       "    }\n",
       "\n",
       "    .dataframe thead th {\n",
       "        text-align: left;\n",
       "    }\n",
       "\n",
       "    .dataframe tbody tr th {\n",
       "        vertical-align: top;\n",
       "    }\n",
       "</style>\n",
       "<table border=\"1\" class=\"dataframe\">\n",
       "  <thead>\n",
       "    <tr style=\"text-align: right;\">\n",
       "      <th></th>\n",
       "      <th>publisher</th>\n",
       "      <th>DC</th>\n",
       "      <th>Marvel</th>\n",
       "    </tr>\n",
       "    <tr>\n",
       "      <th>alive</th>\n",
       "      <th>sex</th>\n",
       "      <th></th>\n",
       "      <th></th>\n",
       "    </tr>\n",
       "  </thead>\n",
       "  <tbody>\n",
       "    <tr>\n",
       "      <th rowspan=\"5\" valign=\"top\">Deceased Characters</th>\n",
       "      <th>Agender Characters</th>\n",
       "      <td>0.000000</td>\n",
       "      <td>8.000000</td>\n",
       "    </tr>\n",
       "    <tr>\n",
       "      <th>Female Characters</th>\n",
       "      <td>19.400000</td>\n",
       "      <td>14.951591</td>\n",
       "    </tr>\n",
       "    <tr>\n",
       "      <th>Genderless Characters</th>\n",
       "      <td>10.000000</td>\n",
       "      <td>0.000000</td>\n",
       "    </tr>\n",
       "    <tr>\n",
       "      <th>Male Characters</th>\n",
       "      <td>21.591987</td>\n",
       "      <td>11.867444</td>\n",
       "    </tr>\n",
       "    <tr>\n",
       "      <th>Transgender Characters</th>\n",
       "      <td>4.000000</td>\n",
       "      <td>0.000000</td>\n",
       "    </tr>\n",
       "    <tr>\n",
       "      <th rowspan=\"5\" valign=\"top\">Living Characters</th>\n",
       "      <th>Agender Characters</th>\n",
       "      <td>0.000000</td>\n",
       "      <td>21.611111</td>\n",
       "    </tr>\n",
       "    <tr>\n",
       "      <th>Female Characters</th>\n",
       "      <td>23.250497</td>\n",
       "      <td>21.625522</td>\n",
       "    </tr>\n",
       "    <tr>\n",
       "      <th>Genderfluid Characters</th>\n",
       "      <td>0.000000</td>\n",
       "      <td>282.500000</td>\n",
       "    </tr>\n",
       "    <tr>\n",
       "      <th>Genderless Characters</th>\n",
       "      <td>13.857143</td>\n",
       "      <td>0.000000</td>\n",
       "    </tr>\n",
       "    <tr>\n",
       "      <th>Male Characters</th>\n",
       "      <td>25.582198</td>\n",
       "      <td>18.399730</td>\n",
       "    </tr>\n",
       "  </tbody>\n",
       "</table>\n",
       "</div>"
      ],
      "text/plain": [
       "publisher                                          DC      Marvel\n",
       "alive               sex                                          \n",
       "Deceased Characters Agender Characters       0.000000    8.000000\n",
       "                    Female Characters       19.400000   14.951591\n",
       "                    Genderless Characters   10.000000    0.000000\n",
       "                    Male Characters         21.591987   11.867444\n",
       "                    Transgender Characters   4.000000    0.000000\n",
       "Living Characters   Agender Characters       0.000000   21.611111\n",
       "                    Female Characters       23.250497   21.625522\n",
       "                    Genderfluid Characters   0.000000  282.500000\n",
       "                    Genderless Characters   13.857143    0.000000\n",
       "                    Male Characters         25.582198   18.399730"
      ]
     },
     "execution_count": 175,
     "metadata": {},
     "output_type": "execute_result"
    }
   ],
   "source": [
    "question_h = comicCharacters.pivot_table(index=['alive', 'sex'], \n",
    "                                    columns=['publisher'], \n",
    "                                    values='appearances',\n",
    "                                    aggfunc=np.mean)\n",
    "question_h.fillna(0)\n"
   ]
  },
  {
   "cell_type": "markdown",
   "metadata": {},
   "source": [
    "# Categorical Data Analysis: Contingency Table, Mosaic Plot, and $\\chi^2$ Test"
   ]
  },
  {
   "cell_type": "markdown",
   "metadata": {
    "slideshow": {
     "slide_type": "subslide"
    }
   },
   "source": [
    "## Contingency Table"
   ]
  },
  {
   "cell_type": "markdown",
   "metadata": {},
   "source": [
    "Contigency table is a type of table that displays the frequency distribution of categorical variables. It can be used to depict the interrelation between two variables and help find the interactions between them. For example, to find the interactions between character alignment and alive status:"
   ]
  },
  {
   "cell_type": "code",
   "execution_count": 242,
   "metadata": {
    "scrolled": true
   },
   "outputs": [
    {
     "data": {
      "text/html": [
       "<div>\n",
       "<style>\n",
       "    .dataframe thead tr:only-child th {\n",
       "        text-align: right;\n",
       "    }\n",
       "\n",
       "    .dataframe thead th {\n",
       "        text-align: left;\n",
       "    }\n",
       "\n",
       "    .dataframe tbody tr th {\n",
       "        vertical-align: top;\n",
       "    }\n",
       "</style>\n",
       "<table border=\"1\" class=\"dataframe\">\n",
       "  <thead>\n",
       "    <tr style=\"text-align: right;\">\n",
       "      <th>alive</th>\n",
       "      <th>Deceased Characters</th>\n",
       "      <th>Living Characters</th>\n",
       "    </tr>\n",
       "    <tr>\n",
       "      <th>align</th>\n",
       "      <th></th>\n",
       "      <th></th>\n",
       "    </tr>\n",
       "  </thead>\n",
       "  <tbody>\n",
       "    <tr>\n",
       "      <th>Bad Characters</th>\n",
       "      <td>2732</td>\n",
       "      <td>6882</td>\n",
       "    </tr>\n",
       "    <tr>\n",
       "      <th>Good Characters</th>\n",
       "      <td>1513</td>\n",
       "      <td>5954</td>\n",
       "    </tr>\n",
       "    <tr>\n",
       "      <th>Neutral Characters</th>\n",
       "      <td>635</td>\n",
       "      <td>2138</td>\n",
       "    </tr>\n",
       "    <tr>\n",
       "      <th>Reformed Criminals</th>\n",
       "      <td>1</td>\n",
       "      <td>2</td>\n",
       "    </tr>\n",
       "  </tbody>\n",
       "</table>\n",
       "</div>"
      ],
      "text/plain": [
       "alive               Deceased Characters  Living Characters\n",
       "align                                                     \n",
       "Bad Characters                     2732               6882\n",
       "Good Characters                    1513               5954\n",
       "Neutral Characters                  635               2138\n",
       "Reformed Criminals                    1                  2"
      ]
     },
     "execution_count": 242,
     "metadata": {},
     "output_type": "execute_result"
    }
   ],
   "source": [
    "ct = pd.crosstab(comicCharacters['align'], comicCharacters['alive'])\n",
    "ct"
   ]
  },
  {
   "cell_type": "markdown",
   "metadata": {},
   "source": [
    "### <font color=\"magenta\">Q6: Construct a contingency table of sex and character alignment normalized by all values. Display the normalized values in percentage (%) format. Use brief sentences to explain your findings."
   ]
  },
  {
   "cell_type": "code",
   "execution_count": 398,
   "metadata": {},
   "outputs": [
    {
     "data": {
      "text/html": [
       "<div>\n",
       "<style>\n",
       "    .dataframe thead tr:only-child th {\n",
       "        text-align: right;\n",
       "    }\n",
       "\n",
       "    .dataframe thead th {\n",
       "        text-align: left;\n",
       "    }\n",
       "\n",
       "    .dataframe tbody tr th {\n",
       "        vertical-align: top;\n",
       "    }\n",
       "</style>\n",
       "<table border=\"1\" class=\"dataframe\">\n",
       "  <thead>\n",
       "    <tr style=\"text-align: right;\">\n",
       "      <th>align</th>\n",
       "      <th>Bad Characters</th>\n",
       "      <th>Good Characters</th>\n",
       "      <th>Neutral Characters</th>\n",
       "      <th>Reformed Criminals</th>\n",
       "    </tr>\n",
       "    <tr>\n",
       "      <th>sex</th>\n",
       "      <th></th>\n",
       "      <th></th>\n",
       "      <th></th>\n",
       "      <th></th>\n",
       "    </tr>\n",
       "  </thead>\n",
       "  <tbody>\n",
       "    <tr>\n",
       "      <th>Agender Characters</th>\n",
       "      <td>0.10%</td>\n",
       "      <td>0.05%</td>\n",
       "      <td>0.07%</td>\n",
       "      <td>0.00%</td>\n",
       "    </tr>\n",
       "    <tr>\n",
       "      <th>Female Characters</th>\n",
       "      <td>8.22%</td>\n",
       "      <td>13.01%</td>\n",
       "      <td>4.37%</td>\n",
       "      <td>0.01%</td>\n",
       "    </tr>\n",
       "    <tr>\n",
       "      <th>Genderfluid Characters</th>\n",
       "      <td>0.00%</td>\n",
       "      <td>0.01%</td>\n",
       "      <td>0.01%</td>\n",
       "      <td>0.00%</td>\n",
       "    </tr>\n",
       "    <tr>\n",
       "      <th>Genderless Characters</th>\n",
       "      <td>0.06%</td>\n",
       "      <td>0.03%</td>\n",
       "      <td>0.02%</td>\n",
       "      <td>0.00%</td>\n",
       "    </tr>\n",
       "    <tr>\n",
       "      <th>Male Characters</th>\n",
       "      <td>39.51%</td>\n",
       "      <td>25.13%</td>\n",
       "      <td>9.40%</td>\n",
       "      <td>0.01%</td>\n",
       "    </tr>\n",
       "    <tr>\n",
       "      <th>Transgender Characters</th>\n",
       "      <td>0.01%</td>\n",
       "      <td>0.00%</td>\n",
       "      <td>0.00%</td>\n",
       "      <td>0.00%</td>\n",
       "    </tr>\n",
       "  </tbody>\n",
       "</table>\n",
       "</div>"
      ],
      "text/plain": [
       "align                  Bad Characters Good Characters Neutral Characters  \\\n",
       "sex                                                                        \n",
       "Agender Characters              0.10%           0.05%              0.07%   \n",
       "Female Characters               8.22%          13.01%              4.37%   \n",
       "Genderfluid Characters          0.00%           0.01%              0.01%   \n",
       "Genderless Characters           0.06%           0.03%              0.02%   \n",
       "Male Characters                39.51%          25.13%              9.40%   \n",
       "Transgender Characters          0.01%           0.00%              0.00%   \n",
       "\n",
       "align                  Reformed Criminals  \n",
       "sex                                        \n",
       "Agender Characters                  0.00%  \n",
       "Female Characters                   0.01%  \n",
       "Genderfluid Characters              0.00%  \n",
       "Genderless Characters               0.00%  \n",
       "Male Characters                     0.01%  \n",
       "Transgender Characters              0.00%  "
      ]
     },
     "execution_count": 398,
     "metadata": {},
     "output_type": "execute_result"
    }
   ],
   "source": [
    "ct = pd.crosstab(comicCharacters['sex'], comicCharacters['align'], normalize='all')\n",
    "ct.apply(lambda x: x.apply(lambda y:  str('{:,.2f}'.format(y*100)) + '%' ))"
   ]
  },
  {
   "cell_type": "markdown",
   "metadata": {
    "slideshow": {
     "slide_type": "subslide"
    }
   },
   "source": [
    "## Mosaic Plots - Graphical Crosstabs\n",
    "\n",
    "In addition to using contingency table, we can also use mosaic plot to visually show frequency distributions of categorical variables."
   ]
  },
  {
   "cell_type": "markdown",
   "metadata": {},
   "source": [
    "### <font color=\"magenta\">Q7: Create a mosaic plot of character alignment and alive status."
   ]
  },
  {
   "cell_type": "markdown",
   "metadata": {},
   "source": [
    "Hint: mosaic(data=..., index=[list of fields], title=...)  "
   ]
  },
  {
   "cell_type": "code",
   "execution_count": 238,
   "metadata": {
    "scrolled": true
   },
   "outputs": [
    {
     "data": {
      "image/png": "[encoded data removed]",
      "text/plain": [
       "<matplotlib.figure.Figure at 0x1c71389a20>"
      ]
     },
     "metadata": {},
     "output_type": "display_data"
    }
   ],
   "source": [
    "from statsmodels.graphics.mosaicplot import mosaic\n",
    "t = mosaic(comicCharacters, \n",
    "           ['align','alive'], \n",
    "           title='Character Alignment vs Alive Status')"
   ]
  },
  {
   "cell_type": "markdown",
   "metadata": {},
   "source": [
    "## $\\chi^2$ Test"
   ]
  },
  {
   "cell_type": "markdown",
   "metadata": {},
   "source": [
    "The contingency table and mosiac plot can show interrelation between categorical variables. If we want to further measure the significance of the interrelation, we can use chi-squared test."
   ]
  },
  {
   "cell_type": "markdown",
   "metadata": {},
   "source": [
    "### <font color=\"magenta\">Q8: Conduct a $\\chi^2$ test of ```align``` and ```alive```. Please specify your (null and alternative) hypotheses and explain your findings."
   ]
  },
  {
   "cell_type": "code",
   "execution_count": 245,
   "metadata": {},
   "outputs": [
    {
     "name": "stdout",
     "output_type": "stream",
     "text": [
      "chi2 =  155.776736098\n",
      "p-val =  1.49439181714e-33\n",
      "degree of freedom =  3\n",
      "Expected:\n"
     ]
    },
    {
     "data": {
      "text/html": [
       "<div>\n",
       "<style>\n",
       "    .dataframe thead tr:only-child th {\n",
       "        text-align: right;\n",
       "    }\n",
       "\n",
       "    .dataframe thead th {\n",
       "        text-align: left;\n",
       "    }\n",
       "\n",
       "    .dataframe tbody tr th {\n",
       "        vertical-align: top;\n",
       "    }\n",
       "</style>\n",
       "<table border=\"1\" class=\"dataframe\">\n",
       "  <thead>\n",
       "    <tr style=\"text-align: right;\">\n",
       "      <th>alive</th>\n",
       "      <th>Deceased Characters</th>\n",
       "      <th>Living Characters</th>\n",
       "    </tr>\n",
       "    <tr>\n",
       "      <th>align</th>\n",
       "      <th></th>\n",
       "      <th></th>\n",
       "    </tr>\n",
       "  </thead>\n",
       "  <tbody>\n",
       "    <tr>\n",
       "      <th>Bad Characters</th>\n",
       "      <td>2363.193534</td>\n",
       "      <td>7250.806466</td>\n",
       "    </tr>\n",
       "    <tr>\n",
       "      <th>Good Characters</th>\n",
       "      <td>1835.444780</td>\n",
       "      <td>5631.555220</td>\n",
       "    </tr>\n",
       "    <tr>\n",
       "      <th>Neutral Characters</th>\n",
       "      <td>681.624263</td>\n",
       "      <td>2091.375737</td>\n",
       "    </tr>\n",
       "    <tr>\n",
       "      <th>Reformed Criminals</th>\n",
       "      <td>0.737423</td>\n",
       "      <td>2.262577</td>\n",
       "    </tr>\n",
       "  </tbody>\n",
       "</table>\n",
       "</div>"
      ],
      "text/plain": [
       "alive               Deceased Characters  Living Characters\n",
       "align                                                     \n",
       "Bad Characters              2363.193534        7250.806466\n",
       "Good Characters             1835.444780        5631.555220\n",
       "Neutral Characters           681.624263        2091.375737\n",
       "Reformed Criminals             0.737423           2.262577"
      ]
     },
     "execution_count": 245,
     "metadata": {},
     "output_type": "execute_result"
    }
   ],
   "source": [
    "from scipy.stats import chi2_contingency\n",
    "chi2, p, dof, ex = chi2_contingency(ct)\n",
    "print(\"chi2 = \", chi2)\n",
    "print(\"p-val = \", p)\n",
    "print(\"degree of freedom = \",dof)\n",
    "print(\"Expected:\")\n",
    "pd.DataFrame(ex, index=ct.index, columns=ct.columns)"
   ]
  },
  {
   "cell_type": "markdown",
   "metadata": {},
   "source": [
    "## One-Way Analysis of Variance (ANOVA)"
   ]
  },
  {
   "cell_type": "markdown",
   "metadata": {},
   "source": [
    "One-way ANOVA is used to test null hypothesis that samples are drawn from populations with same mean values, therefore capable of detecting mean differences between two or more samples."
   ]
  },
  {
   "cell_type": "markdown",
   "metadata": {},
   "source": [
    "### <font color=\"magenta\">Q9: Conduct a one-way ANOVA to compare means of appearances of difference character alignments. Please specify your (null and alternative) hypotheses and explain your findings."
   ]
  },
  {
   "cell_type": "code",
   "execution_count": 337,
   "metadata": {
    "scrolled": true
   },
   "outputs": [
    {
     "data": {
      "text/plain": [
       "array(['Good Characters', 'Neutral Characters', 'Bad Characters', nan,\n",
       "       'Reformed Criminals'], dtype=object)"
      ]
     },
     "execution_count": 337,
     "metadata": {},
     "output_type": "execute_result"
    }
   ],
   "source": [
    "comic_characters['align'].unique()"
   ]
  },
  {
   "cell_type": "markdown",
   "metadata": {},
   "source": [
    "Hint:\n",
    "1. First, split data into different groups\n",
    "2. Then, use stats.f_oneway(group1, group2, ...)"
   ]
  },
  {
   "cell_type": "code",
   "execution_count": 347,
   "metadata": {},
   "outputs": [
    {
     "data": {
      "text/plain": [
       "F_onewayResult(statistic=95.60065301835094, pvalue=2.1028273381789163e-61)"
      ]
     },
     "execution_count": 347,
     "metadata": {},
     "output_type": "execute_result"
    }
   ],
   "source": [
    "good_characters = comic_characters[comic_characters['align'] == 'Good Characters']\n",
    "neutral_characters = comic_characters[comic_characters['align'] == 'Neutral Characters']\n",
    "bad_characters = comic_characters[comic_characters['align'] == 'Bad Characters']\n",
    "reformed_criminals = comic_characters[comic_characters['align'] == 'Reformed Criminals']\n",
    "\n",
    "stats.f_oneway(good_characters.appearances.dropna(), \n",
    "               neutral_characters.appearances.dropna(), \n",
    "               bad_characters.appearances.dropna(),\n",
    "               reformed_criminals.appearances.dropna())"
   ]
  },
  {
   "cell_type": "markdown",
   "metadata": {},
   "source": [
    "# Part 2: Analysis of US Crime Data"
   ]
  },
  {
   "cell_type": "markdown",
   "metadata": {},
   "source": [
    "Reference: Venables, W. N. and Ripley, B. D. (1999) Modern Applied Statistics with S-PLUS. Third Edition. Springer."
   ]
  },
  {
   "cell_type": "markdown",
   "metadata": {},
   "source": [
    "## Description\n",
    "\n",
    "Criminologists are interested in the effect of punishment regimes on crime rates. This has been studied using aggregate data on 47 states of the USA for 1960 given in this data frame. The variables seem to have been re-scaled to convenient numbers."
   ]
  },
  {
   "cell_type": "markdown",
   "metadata": {},
   "source": [
    "## Metadata\n",
    "\n",
    "This data frame contains the following columns:\n",
    "\n",
    "\n",
    "| Field | Description |\n",
    "| --- | --- |\n",
    "| M | percentage of males aged 14–24. |\n",
    "| So | indicator variable for a Southern state.|\n",
    "| Ed | mean years of schooling.| \n",
    "| Po1| police expenditure in 1960.| \n",
    "| Po2| police expenditure in 1959.| \n",
    "| LF | labour force participation rate.| \n",
    "| M.F| number of males per 1000 females.| \n",
    "| Pop| state population.| \n",
    "| NW| number of non-whites per 1000 people.| \n",
    "| U1| unemployment rate of urban males 14–24.| \n",
    "| U2| unemployment rate of urban males 35–39.| \n",
    "| GDP| gross domestic product per head.| \n",
    "| Ineq | income inequality.| \n",
    "| Prob| probability of imprisonment.| \n",
    "| Time| average time served in state prisons.| \n",
    "| y| rate of crimes in a particular category per head of population.| \n",
    "\n"
   ]
  },
  {
   "cell_type": "code",
   "execution_count": 441,
   "metadata": {},
   "outputs": [
    {
     "data": {
      "text/html": [
       "<div>\n",
       "<style>\n",
       "    .dataframe thead tr:only-child th {\n",
       "        text-align: right;\n",
       "    }\n",
       "\n",
       "    .dataframe thead th {\n",
       "        text-align: left;\n",
       "    }\n",
       "\n",
       "    .dataframe tbody tr th {\n",
       "        vertical-align: top;\n",
       "    }\n",
       "</style>\n",
       "<table border=\"1\" class=\"dataframe\">\n",
       "  <thead>\n",
       "    <tr style=\"text-align: right;\">\n",
       "      <th></th>\n",
       "      <th>Unnamed: 0</th>\n",
       "      <th>M</th>\n",
       "      <th>So</th>\n",
       "      <th>Ed</th>\n",
       "      <th>Po1</th>\n",
       "      <th>Po2</th>\n",
       "      <th>LF</th>\n",
       "      <th>M.F</th>\n",
       "      <th>Pop</th>\n",
       "      <th>NW</th>\n",
       "      <th>U1</th>\n",
       "      <th>U2</th>\n",
       "      <th>GDP</th>\n",
       "      <th>Ineq</th>\n",
       "      <th>Prob</th>\n",
       "      <th>Time</th>\n",
       "      <th>y</th>\n",
       "    </tr>\n",
       "  </thead>\n",
       "  <tbody>\n",
       "    <tr>\n",
       "      <th>0</th>\n",
       "      <td>1</td>\n",
       "      <td>151</td>\n",
       "      <td>1</td>\n",
       "      <td>91</td>\n",
       "      <td>58</td>\n",
       "      <td>56</td>\n",
       "      <td>510</td>\n",
       "      <td>950</td>\n",
       "      <td>33</td>\n",
       "      <td>301</td>\n",
       "      <td>108</td>\n",
       "      <td>41</td>\n",
       "      <td>394</td>\n",
       "      <td>261</td>\n",
       "      <td>0.084602</td>\n",
       "      <td>26.2011</td>\n",
       "      <td>791</td>\n",
       "    </tr>\n",
       "    <tr>\n",
       "      <th>1</th>\n",
       "      <td>2</td>\n",
       "      <td>143</td>\n",
       "      <td>0</td>\n",
       "      <td>113</td>\n",
       "      <td>103</td>\n",
       "      <td>95</td>\n",
       "      <td>583</td>\n",
       "      <td>1012</td>\n",
       "      <td>13</td>\n",
       "      <td>102</td>\n",
       "      <td>96</td>\n",
       "      <td>36</td>\n",
       "      <td>557</td>\n",
       "      <td>194</td>\n",
       "      <td>0.029599</td>\n",
       "      <td>25.2999</td>\n",
       "      <td>1635</td>\n",
       "    </tr>\n",
       "    <tr>\n",
       "      <th>2</th>\n",
       "      <td>3</td>\n",
       "      <td>142</td>\n",
       "      <td>1</td>\n",
       "      <td>89</td>\n",
       "      <td>45</td>\n",
       "      <td>44</td>\n",
       "      <td>533</td>\n",
       "      <td>969</td>\n",
       "      <td>18</td>\n",
       "      <td>219</td>\n",
       "      <td>94</td>\n",
       "      <td>33</td>\n",
       "      <td>318</td>\n",
       "      <td>250</td>\n",
       "      <td>0.083401</td>\n",
       "      <td>24.3006</td>\n",
       "      <td>578</td>\n",
       "    </tr>\n",
       "    <tr>\n",
       "      <th>3</th>\n",
       "      <td>4</td>\n",
       "      <td>136</td>\n",
       "      <td>0</td>\n",
       "      <td>121</td>\n",
       "      <td>149</td>\n",
       "      <td>141</td>\n",
       "      <td>577</td>\n",
       "      <td>994</td>\n",
       "      <td>157</td>\n",
       "      <td>80</td>\n",
       "      <td>102</td>\n",
       "      <td>39</td>\n",
       "      <td>673</td>\n",
       "      <td>167</td>\n",
       "      <td>0.015801</td>\n",
       "      <td>29.9012</td>\n",
       "      <td>1969</td>\n",
       "    </tr>\n",
       "    <tr>\n",
       "      <th>4</th>\n",
       "      <td>5</td>\n",
       "      <td>141</td>\n",
       "      <td>0</td>\n",
       "      <td>121</td>\n",
       "      <td>109</td>\n",
       "      <td>101</td>\n",
       "      <td>591</td>\n",
       "      <td>985</td>\n",
       "      <td>18</td>\n",
       "      <td>30</td>\n",
       "      <td>91</td>\n",
       "      <td>20</td>\n",
       "      <td>578</td>\n",
       "      <td>174</td>\n",
       "      <td>0.041399</td>\n",
       "      <td>21.2998</td>\n",
       "      <td>1234</td>\n",
       "    </tr>\n",
       "  </tbody>\n",
       "</table>\n",
       "</div>"
      ],
      "text/plain": [
       "   Unnamed: 0    M  So   Ed  Po1  Po2   LF   M.F  Pop   NW   U1  U2  GDP  \\\n",
       "0           1  151   1   91   58   56  510   950   33  301  108  41  394   \n",
       "1           2  143   0  113  103   95  583  1012   13  102   96  36  557   \n",
       "2           3  142   1   89   45   44  533   969   18  219   94  33  318   \n",
       "3           4  136   0  121  149  141  577   994  157   80  102  39  673   \n",
       "4           5  141   0  121  109  101  591   985   18   30   91  20  578   \n",
       "\n",
       "   Ineq      Prob     Time     y  \n",
       "0   261  0.084602  26.2011   791  \n",
       "1   194  0.029599  25.2999  1635  \n",
       "2   250  0.083401  24.3006   578  \n",
       "3   167  0.015801  29.9012  1969  \n",
       "4   174  0.041399  21.2998  1234  "
      ]
     },
     "execution_count": 441,
     "metadata": {},
     "output_type": "execute_result"
    }
   ],
   "source": [
    "UScrime = pd.read_csv(\"UScrime.csv\")\n",
    "UScrime.head()"
   ]
  },
  {
   "cell_type": "markdown",
   "metadata": {},
   "source": [
    "# Visualization using Seaborn"
   ]
  },
  {
   "cell_type": "code",
   "execution_count": 264,
   "metadata": {
    "collapsed": true
   },
   "outputs": [],
   "source": [
    "import seaborn as sns\n",
    "%matplotlib inline"
   ]
  },
  {
   "cell_type": "markdown",
   "metadata": {},
   "source": [
    "## Histogram"
   ]
  },
  {
   "cell_type": "markdown",
   "metadata": {},
   "source": [
    "### <font color=\"magenta\">Q10: Create a histogram of the GDP field."
   ]
  },
  {
   "cell_type": "code",
   "execution_count": 415,
   "metadata": {},
   "outputs": [
    {
     "data": {
      "text/plain": [
       "<matplotlib.axes._subplots.AxesSubplot at 0x1c39aaf898>"
      ]
     },
     "execution_count": 415,
     "metadata": {},
     "output_type": "execute_result"
    },
    {
     "data": {
      "image/png": "[encoded data removed]",
      "text/plain": [
       "<matplotlib.figure.Figure at 0x1c393c7518>"
      ]
     },
     "metadata": {},
     "output_type": "display_data"
    }
   ],
   "source": [
    "sns.distplot(UScrime['GDP'])"
   ]
  },
  {
   "cell_type": "markdown",
   "metadata": {},
   "source": [
    "## Boxplot"
   ]
  },
  {
   "cell_type": "markdown",
   "metadata": {},
   "source": [
    "Alternatively, you can use boxplot to depict the dispersion of the same distribution, with the ```orient='v'``` parameter to display the plot vertically"
   ]
  },
  {
   "cell_type": "code",
   "execution_count": 404,
   "metadata": {},
   "outputs": [
    {
     "data": {
      "text/plain": [
       "<matplotlib.axes._subplots.AxesSubplot at 0x1c12acfb38>"
      ]
     },
     "execution_count": 404,
     "metadata": {},
     "output_type": "execute_result"
    },
    {
     "data": {
      "image/png": "[encoded data removed]",
      "text/plain": [
       "<matplotlib.figure.Figure at 0x1c1701a438>"
      ]
     },
     "metadata": {},
     "output_type": "display_data"
    }
   ],
   "source": [
    "sns.boxplot(UScrime.y, orient='v')"
   ]
  },
  {
   "cell_type": "markdown",
   "metadata": {},
   "source": [
    "### <font color=\"magenta\">Q11: Create a vertical boxplot of crime rate per capita ```y``` grouped by the indicator variable ```So``` (if a state is Southern or Northern state)."
   ]
  },
  {
   "cell_type": "markdown",
   "metadata": {},
   "source": [
    "Hint: Use ```y=``` to specify the field of interest, and ```x=``` to specify the grouping field"
   ]
  },
  {
   "cell_type": "code",
   "execution_count": 266,
   "metadata": {},
   "outputs": [
    {
     "data": {
      "text/plain": [
       "<matplotlib.axes._subplots.AxesSubplot at 0x1c7666d1d0>"
      ]
     },
     "execution_count": 266,
     "metadata": {},
     "output_type": "execute_result"
    },
    {
     "data": {
      "image/png": "[encoded data removed]",
      "text/plain": [
       "<matplotlib.figure.Figure at 0x1c7656d5f8>"
      ]
     },
     "metadata": {},
     "output_type": "display_data"
    }
   ],
   "source": [
    "sns.boxplot(x=\"So\", y=\"y\", data=UScrime)"
   ]
  },
  {
   "cell_type": "markdown",
   "metadata": {},
   "source": [
    "### <font color=\"magenta\">Q12: Create a scatter plot of crime rate per capita ```y``` vs. ```GDP``` with fitted regression line and marginal histogram plots."
   ]
  },
  {
   "cell_type": "code",
   "execution_count": 407,
   "metadata": {
    "scrolled": true,
    "slideshow": {
     "slide_type": "-"
    }
   },
   "outputs": [
    {
     "data": {
      "image/png": "[encoded data removed]",
      "text/plain": [
       "<matplotlib.figure.Figure at 0x1c12178748>"
      ]
     },
     "metadata": {},
     "output_type": "display_data"
    }
   ],
   "source": [
    "g = sns.JointGrid(x='GDP',y='y', data=UScrime)\n",
    "g = g.plot(sns.regplot, sns.distplot)\n",
    "g = g.annotate(stats.pearsonr)\n"
   ]
  },
  {
   "cell_type": "markdown",
   "metadata": {
    "slideshow": {
     "slide_type": "subslide"
    }
   },
   "source": [
    "## Correlation"
   ]
  },
  {
   "cell_type": "markdown",
   "metadata": {},
   "source": [
    "### <font color=\"magenta\">Q13: What is the correlation between GDP and Income Inequality?"
   ]
  },
  {
   "cell_type": "code",
   "execution_count": 272,
   "metadata": {},
   "outputs": [
    {
     "data": {
      "text/plain": [
       "-0.88399727579985121"
      ]
     },
     "execution_count": 272,
     "metadata": {},
     "output_type": "execute_result"
    }
   ],
   "source": [
    "UScrime.GDP.corr(UScrime['Ineq'])"
   ]
  },
  {
   "cell_type": "markdown",
   "metadata": {},
   "source": [
    "### <font color=\"magenta\">Q14: What is the correlation between every pair of variables?"
   ]
  },
  {
   "cell_type": "code",
   "execution_count": 304,
   "metadata": {},
   "outputs": [
    {
     "data": {
      "text/html": [
       "<div>\n",
       "<style>\n",
       "    .dataframe thead tr:only-child th {\n",
       "        text-align: right;\n",
       "    }\n",
       "\n",
       "    .dataframe thead th {\n",
       "        text-align: left;\n",
       "    }\n",
       "\n",
       "    .dataframe tbody tr th {\n",
       "        vertical-align: top;\n",
       "    }\n",
       "</style>\n",
       "<table border=\"1\" class=\"dataframe\">\n",
       "  <thead>\n",
       "    <tr style=\"text-align: right;\">\n",
       "      <th></th>\n",
       "      <th>Unnamed: 0</th>\n",
       "      <th>M</th>\n",
       "      <th>So</th>\n",
       "      <th>Ed</th>\n",
       "      <th>Po1</th>\n",
       "      <th>Po2</th>\n",
       "      <th>LF</th>\n",
       "      <th>M.F</th>\n",
       "      <th>Pop</th>\n",
       "      <th>NW</th>\n",
       "      <th>U1</th>\n",
       "      <th>U2</th>\n",
       "      <th>GDP</th>\n",
       "      <th>Ineq</th>\n",
       "      <th>Prob</th>\n",
       "      <th>Time</th>\n",
       "      <th>y</th>\n",
       "    </tr>\n",
       "  </thead>\n",
       "  <tbody>\n",
       "    <tr>\n",
       "      <th>Unnamed: 0</th>\n",
       "      <td>1.000000</td>\n",
       "      <td>0.119596</td>\n",
       "      <td>-0.059583</td>\n",
       "      <td>-0.050313</td>\n",
       "      <td>-0.153433</td>\n",
       "      <td>-0.163304</td>\n",
       "      <td>0.000196</td>\n",
       "      <td>0.175781</td>\n",
       "      <td>-0.071130</td>\n",
       "      <td>-0.196049</td>\n",
       "      <td>0.116435</td>\n",
       "      <td>0.030225</td>\n",
       "      <td>-0.028426</td>\n",
       "      <td>-0.028255</td>\n",
       "      <td>-0.072332</td>\n",
       "      <td>0.022777</td>\n",
       "      <td>-0.271133</td>\n",
       "    </tr>\n",
       "    <tr>\n",
       "      <th>M</th>\n",
       "      <td>0.119596</td>\n",
       "      <td>1.000000</td>\n",
       "      <td>0.584355</td>\n",
       "      <td>-0.530240</td>\n",
       "      <td>-0.505737</td>\n",
       "      <td>-0.513173</td>\n",
       "      <td>-0.160949</td>\n",
       "      <td>-0.028680</td>\n",
       "      <td>-0.280638</td>\n",
       "      <td>0.593198</td>\n",
       "      <td>-0.224381</td>\n",
       "      <td>-0.244843</td>\n",
       "      <td>-0.670055</td>\n",
       "      <td>0.639211</td>\n",
       "      <td>0.361116</td>\n",
       "      <td>0.114511</td>\n",
       "      <td>-0.089472</td>\n",
       "    </tr>\n",
       "    <tr>\n",
       "      <th>So</th>\n",
       "      <td>-0.059583</td>\n",
       "      <td>0.584355</td>\n",
       "      <td>1.000000</td>\n",
       "      <td>-0.702741</td>\n",
       "      <td>-0.372636</td>\n",
       "      <td>-0.376168</td>\n",
       "      <td>-0.505469</td>\n",
       "      <td>-0.314733</td>\n",
       "      <td>-0.049918</td>\n",
       "      <td>0.767103</td>\n",
       "      <td>-0.172419</td>\n",
       "      <td>0.071693</td>\n",
       "      <td>-0.636945</td>\n",
       "      <td>0.737181</td>\n",
       "      <td>0.530862</td>\n",
       "      <td>0.066813</td>\n",
       "      <td>-0.090637</td>\n",
       "    </tr>\n",
       "    <tr>\n",
       "      <th>Ed</th>\n",
       "      <td>-0.050313</td>\n",
       "      <td>-0.530240</td>\n",
       "      <td>-0.702741</td>\n",
       "      <td>1.000000</td>\n",
       "      <td>0.482952</td>\n",
       "      <td>0.499410</td>\n",
       "      <td>0.561178</td>\n",
       "      <td>0.436915</td>\n",
       "      <td>-0.017227</td>\n",
       "      <td>-0.664882</td>\n",
       "      <td>0.018103</td>\n",
       "      <td>-0.215682</td>\n",
       "      <td>0.735997</td>\n",
       "      <td>-0.768658</td>\n",
       "      <td>-0.389923</td>\n",
       "      <td>-0.253974</td>\n",
       "      <td>0.322835</td>\n",
       "    </tr>\n",
       "    <tr>\n",
       "      <th>Po1</th>\n",
       "      <td>-0.153433</td>\n",
       "      <td>-0.505737</td>\n",
       "      <td>-0.372636</td>\n",
       "      <td>0.482952</td>\n",
       "      <td>1.000000</td>\n",
       "      <td>0.993586</td>\n",
       "      <td>0.121493</td>\n",
       "      <td>0.033760</td>\n",
       "      <td>0.526284</td>\n",
       "      <td>-0.213709</td>\n",
       "      <td>-0.043698</td>\n",
       "      <td>0.185093</td>\n",
       "      <td>0.787225</td>\n",
       "      <td>-0.630500</td>\n",
       "      <td>-0.473247</td>\n",
       "      <td>0.103358</td>\n",
       "      <td>0.687604</td>\n",
       "    </tr>\n",
       "    <tr>\n",
       "      <th>Po2</th>\n",
       "      <td>-0.163304</td>\n",
       "      <td>-0.513173</td>\n",
       "      <td>-0.376168</td>\n",
       "      <td>0.499410</td>\n",
       "      <td>0.993586</td>\n",
       "      <td>1.000000</td>\n",
       "      <td>0.106350</td>\n",
       "      <td>0.022843</td>\n",
       "      <td>0.513789</td>\n",
       "      <td>-0.218768</td>\n",
       "      <td>-0.051712</td>\n",
       "      <td>0.169224</td>\n",
       "      <td>0.794262</td>\n",
       "      <td>-0.648152</td>\n",
       "      <td>-0.473027</td>\n",
       "      <td>0.075627</td>\n",
       "      <td>0.666714</td>\n",
       "    </tr>\n",
       "    <tr>\n",
       "      <th>LF</th>\n",
       "      <td>0.000196</td>\n",
       "      <td>-0.160949</td>\n",
       "      <td>-0.505469</td>\n",
       "      <td>0.561178</td>\n",
       "      <td>0.121493</td>\n",
       "      <td>0.106350</td>\n",
       "      <td>1.000000</td>\n",
       "      <td>0.513559</td>\n",
       "      <td>-0.123672</td>\n",
       "      <td>-0.341214</td>\n",
       "      <td>-0.229400</td>\n",
       "      <td>-0.420762</td>\n",
       "      <td>0.294632</td>\n",
       "      <td>-0.269886</td>\n",
       "      <td>-0.250086</td>\n",
       "      <td>-0.123640</td>\n",
       "      <td>0.188866</td>\n",
       "    </tr>\n",
       "    <tr>\n",
       "      <th>M.F</th>\n",
       "      <td>0.175781</td>\n",
       "      <td>-0.028680</td>\n",
       "      <td>-0.314733</td>\n",
       "      <td>0.436915</td>\n",
       "      <td>0.033760</td>\n",
       "      <td>0.022843</td>\n",
       "      <td>0.513559</td>\n",
       "      <td>1.000000</td>\n",
       "      <td>-0.410628</td>\n",
       "      <td>-0.327305</td>\n",
       "      <td>0.351892</td>\n",
       "      <td>-0.018692</td>\n",
       "      <td>0.179609</td>\n",
       "      <td>-0.167089</td>\n",
       "      <td>-0.050858</td>\n",
       "      <td>-0.427697</td>\n",
       "      <td>0.213914</td>\n",
       "    </tr>\n",
       "    <tr>\n",
       "      <th>Pop</th>\n",
       "      <td>-0.071130</td>\n",
       "      <td>-0.280638</td>\n",
       "      <td>-0.049918</td>\n",
       "      <td>-0.017227</td>\n",
       "      <td>0.526284</td>\n",
       "      <td>0.513789</td>\n",
       "      <td>-0.123672</td>\n",
       "      <td>-0.410628</td>\n",
       "      <td>1.000000</td>\n",
       "      <td>0.095153</td>\n",
       "      <td>-0.038120</td>\n",
       "      <td>0.270422</td>\n",
       "      <td>0.308263</td>\n",
       "      <td>-0.126294</td>\n",
       "      <td>-0.347289</td>\n",
       "      <td>0.464210</td>\n",
       "      <td>0.337474</td>\n",
       "    </tr>\n",
       "    <tr>\n",
       "      <th>NW</th>\n",
       "      <td>-0.196049</td>\n",
       "      <td>0.593198</td>\n",
       "      <td>0.767103</td>\n",
       "      <td>-0.664882</td>\n",
       "      <td>-0.213709</td>\n",
       "      <td>-0.218768</td>\n",
       "      <td>-0.341214</td>\n",
       "      <td>-0.327305</td>\n",
       "      <td>0.095153</td>\n",
       "      <td>1.000000</td>\n",
       "      <td>-0.156450</td>\n",
       "      <td>0.080908</td>\n",
       "      <td>-0.590107</td>\n",
       "      <td>0.677313</td>\n",
       "      <td>0.428059</td>\n",
       "      <td>0.230398</td>\n",
       "      <td>0.032599</td>\n",
       "    </tr>\n",
       "    <tr>\n",
       "      <th>U1</th>\n",
       "      <td>0.116435</td>\n",
       "      <td>-0.224381</td>\n",
       "      <td>-0.172419</td>\n",
       "      <td>0.018103</td>\n",
       "      <td>-0.043698</td>\n",
       "      <td>-0.051712</td>\n",
       "      <td>-0.229400</td>\n",
       "      <td>0.351892</td>\n",
       "      <td>-0.038120</td>\n",
       "      <td>-0.156450</td>\n",
       "      <td>1.000000</td>\n",
       "      <td>0.745925</td>\n",
       "      <td>0.044857</td>\n",
       "      <td>-0.063832</td>\n",
       "      <td>-0.007469</td>\n",
       "      <td>-0.169853</td>\n",
       "      <td>-0.050478</td>\n",
       "    </tr>\n",
       "    <tr>\n",
       "      <th>U2</th>\n",
       "      <td>0.030225</td>\n",
       "      <td>-0.244843</td>\n",
       "      <td>0.071693</td>\n",
       "      <td>-0.215682</td>\n",
       "      <td>0.185093</td>\n",
       "      <td>0.169224</td>\n",
       "      <td>-0.420762</td>\n",
       "      <td>-0.018692</td>\n",
       "      <td>0.270422</td>\n",
       "      <td>0.080908</td>\n",
       "      <td>0.745925</td>\n",
       "      <td>1.000000</td>\n",
       "      <td>0.092072</td>\n",
       "      <td>0.015678</td>\n",
       "      <td>-0.061592</td>\n",
       "      <td>0.101358</td>\n",
       "      <td>0.177321</td>\n",
       "    </tr>\n",
       "    <tr>\n",
       "      <th>GDP</th>\n",
       "      <td>-0.028426</td>\n",
       "      <td>-0.670055</td>\n",
       "      <td>-0.636945</td>\n",
       "      <td>0.735997</td>\n",
       "      <td>0.787225</td>\n",
       "      <td>0.794262</td>\n",
       "      <td>0.294632</td>\n",
       "      <td>0.179609</td>\n",
       "      <td>0.308263</td>\n",
       "      <td>-0.590107</td>\n",
       "      <td>0.044857</td>\n",
       "      <td>0.092072</td>\n",
       "      <td>1.000000</td>\n",
       "      <td>-0.883997</td>\n",
       "      <td>-0.555335</td>\n",
       "      <td>0.000649</td>\n",
       "      <td>0.441320</td>\n",
       "    </tr>\n",
       "    <tr>\n",
       "      <th>Ineq</th>\n",
       "      <td>-0.028255</td>\n",
       "      <td>0.639211</td>\n",
       "      <td>0.737181</td>\n",
       "      <td>-0.768658</td>\n",
       "      <td>-0.630500</td>\n",
       "      <td>-0.648152</td>\n",
       "      <td>-0.269886</td>\n",
       "      <td>-0.167089</td>\n",
       "      <td>-0.126294</td>\n",
       "      <td>0.677313</td>\n",
       "      <td>-0.063832</td>\n",
       "      <td>0.015678</td>\n",
       "      <td>-0.883997</td>\n",
       "      <td>1.000000</td>\n",
       "      <td>0.465322</td>\n",
       "      <td>0.101823</td>\n",
       "      <td>-0.179024</td>\n",
       "    </tr>\n",
       "    <tr>\n",
       "      <th>Prob</th>\n",
       "      <td>-0.072332</td>\n",
       "      <td>0.361116</td>\n",
       "      <td>0.530862</td>\n",
       "      <td>-0.389923</td>\n",
       "      <td>-0.473247</td>\n",
       "      <td>-0.473027</td>\n",
       "      <td>-0.250086</td>\n",
       "      <td>-0.050858</td>\n",
       "      <td>-0.347289</td>\n",
       "      <td>0.428059</td>\n",
       "      <td>-0.007469</td>\n",
       "      <td>-0.061592</td>\n",
       "      <td>-0.555335</td>\n",
       "      <td>0.465322</td>\n",
       "      <td>1.000000</td>\n",
       "      <td>-0.436246</td>\n",
       "      <td>-0.427422</td>\n",
       "    </tr>\n",
       "    <tr>\n",
       "      <th>Time</th>\n",
       "      <td>0.022777</td>\n",
       "      <td>0.114511</td>\n",
       "      <td>0.066813</td>\n",
       "      <td>-0.253974</td>\n",
       "      <td>0.103358</td>\n",
       "      <td>0.075627</td>\n",
       "      <td>-0.123640</td>\n",
       "      <td>-0.427697</td>\n",
       "      <td>0.464210</td>\n",
       "      <td>0.230398</td>\n",
       "      <td>-0.169853</td>\n",
       "      <td>0.101358</td>\n",
       "      <td>0.000649</td>\n",
       "      <td>0.101823</td>\n",
       "      <td>-0.436246</td>\n",
       "      <td>1.000000</td>\n",
       "      <td>0.149866</td>\n",
       "    </tr>\n",
       "    <tr>\n",
       "      <th>y</th>\n",
       "      <td>-0.271133</td>\n",
       "      <td>-0.089472</td>\n",
       "      <td>-0.090637</td>\n",
       "      <td>0.322835</td>\n",
       "      <td>0.687604</td>\n",
       "      <td>0.666714</td>\n",
       "      <td>0.188866</td>\n",
       "      <td>0.213914</td>\n",
       "      <td>0.337474</td>\n",
       "      <td>0.032599</td>\n",
       "      <td>-0.050478</td>\n",
       "      <td>0.177321</td>\n",
       "      <td>0.441320</td>\n",
       "      <td>-0.179024</td>\n",
       "      <td>-0.427422</td>\n",
       "      <td>0.149866</td>\n",
       "      <td>1.000000</td>\n",
       "    </tr>\n",
       "  </tbody>\n",
       "</table>\n",
       "</div>"
      ],
      "text/plain": [
       "            Unnamed: 0         M        So        Ed       Po1       Po2  \\\n",
       "Unnamed: 0    1.000000  0.119596 -0.059583 -0.050313 -0.153433 -0.163304   \n",
       "M             0.119596  1.000000  0.584355 -0.530240 -0.505737 -0.513173   \n",
       "So           -0.059583  0.584355  1.000000 -0.702741 -0.372636 -0.376168   \n",
       "Ed           -0.050313 -0.530240 -0.702741  1.000000  0.482952  0.499410   \n",
       "Po1          -0.153433 -0.505737 -0.372636  0.482952  1.000000  0.993586   \n",
       "Po2          -0.163304 -0.513173 -0.376168  0.499410  0.993586  1.000000   \n",
       "LF            0.000196 -0.160949 -0.505469  0.561178  0.121493  0.106350   \n",
       "M.F           0.175781 -0.028680 -0.314733  0.436915  0.033760  0.022843   \n",
       "Pop          -0.071130 -0.280638 -0.049918 -0.017227  0.526284  0.513789   \n",
       "NW           -0.196049  0.593198  0.767103 -0.664882 -0.213709 -0.218768   \n",
       "U1            0.116435 -0.224381 -0.172419  0.018103 -0.043698 -0.051712   \n",
       "U2            0.030225 -0.244843  0.071693 -0.215682  0.185093  0.169224   \n",
       "GDP          -0.028426 -0.670055 -0.636945  0.735997  0.787225  0.794262   \n",
       "Ineq         -0.028255  0.639211  0.737181 -0.768658 -0.630500 -0.648152   \n",
       "Prob         -0.072332  0.361116  0.530862 -0.389923 -0.473247 -0.473027   \n",
       "Time          0.022777  0.114511  0.066813 -0.253974  0.103358  0.075627   \n",
       "y            -0.271133 -0.089472 -0.090637  0.322835  0.687604  0.666714   \n",
       "\n",
       "                  LF       M.F       Pop        NW        U1        U2  \\\n",
       "Unnamed: 0  0.000196  0.175781 -0.071130 -0.196049  0.116435  0.030225   \n",
       "M          -0.160949 -0.028680 -0.280638  0.593198 -0.224381 -0.244843   \n",
       "So         -0.505469 -0.314733 -0.049918  0.767103 -0.172419  0.071693   \n",
       "Ed          0.561178  0.436915 -0.017227 -0.664882  0.018103 -0.215682   \n",
       "Po1         0.121493  0.033760  0.526284 -0.213709 -0.043698  0.185093   \n",
       "Po2         0.106350  0.022843  0.513789 -0.218768 -0.051712  0.169224   \n",
       "LF          1.000000  0.513559 -0.123672 -0.341214 -0.229400 -0.420762   \n",
       "M.F         0.513559  1.000000 -0.410628 -0.327305  0.351892 -0.018692   \n",
       "Pop        -0.123672 -0.410628  1.000000  0.095153 -0.038120  0.270422   \n",
       "NW         -0.341214 -0.327305  0.095153  1.000000 -0.156450  0.080908   \n",
       "U1         -0.229400  0.351892 -0.038120 -0.156450  1.000000  0.745925   \n",
       "U2         -0.420762 -0.018692  0.270422  0.080908  0.745925  1.000000   \n",
       "GDP         0.294632  0.179609  0.308263 -0.590107  0.044857  0.092072   \n",
       "Ineq       -0.269886 -0.167089 -0.126294  0.677313 -0.063832  0.015678   \n",
       "Prob       -0.250086 -0.050858 -0.347289  0.428059 -0.007469 -0.061592   \n",
       "Time       -0.123640 -0.427697  0.464210  0.230398 -0.169853  0.101358   \n",
       "y           0.188866  0.213914  0.337474  0.032599 -0.050478  0.177321   \n",
       "\n",
       "                 GDP      Ineq      Prob      Time         y  \n",
       "Unnamed: 0 -0.028426 -0.028255 -0.072332  0.022777 -0.271133  \n",
       "M          -0.670055  0.639211  0.361116  0.114511 -0.089472  \n",
       "So         -0.636945  0.737181  0.530862  0.066813 -0.090637  \n",
       "Ed          0.735997 -0.768658 -0.389923 -0.253974  0.322835  \n",
       "Po1         0.787225 -0.630500 -0.473247  0.103358  0.687604  \n",
       "Po2         0.794262 -0.648152 -0.473027  0.075627  0.666714  \n",
       "LF          0.294632 -0.269886 -0.250086 -0.123640  0.188866  \n",
       "M.F         0.179609 -0.167089 -0.050858 -0.427697  0.213914  \n",
       "Pop         0.308263 -0.126294 -0.347289  0.464210  0.337474  \n",
       "NW         -0.590107  0.677313  0.428059  0.230398  0.032599  \n",
       "U1          0.044857 -0.063832 -0.007469 -0.169853 -0.050478  \n",
       "U2          0.092072  0.015678 -0.061592  0.101358  0.177321  \n",
       "GDP         1.000000 -0.883997 -0.555335  0.000649  0.441320  \n",
       "Ineq       -0.883997  1.000000  0.465322  0.101823 -0.179024  \n",
       "Prob       -0.555335  0.465322  1.000000 -0.436246 -0.427422  \n",
       "Time        0.000649  0.101823 -0.436246  1.000000  0.149866  \n",
       "y           0.441320 -0.179024 -0.427422  0.149866  1.000000  "
      ]
     },
     "execution_count": 304,
     "metadata": {},
     "output_type": "execute_result"
    }
   ],
   "source": [
    "correlation = UScrime.corr()\n",
    "correlation"
   ]
  },
  {
   "cell_type": "markdown",
   "metadata": {},
   "source": [
    "### <font color=\"magenta\">Q15: Find the top 5 variables that has the highest correlation with crime rate per capita (excluding y itself). Save the output list as 'top5_correlated_variables'."
   ]
  },
  {
   "cell_type": "code",
   "execution_count": 328,
   "metadata": {},
   "outputs": [
    {
     "data": {
      "text/plain": [
       "['Po1', 'Po2', 'GDP', 'Prob', 'Pop']"
      ]
     },
     "execution_count": 328,
     "metadata": {},
     "output_type": "execute_result"
    }
   ],
   "source": [
    "top5_correlated_variables = abs(correlation).sort_values('y', ascending=False).head(6).index[1:].values.tolist()\n",
    "top5_correlated_variables"
   ]
  },
  {
   "cell_type": "markdown",
   "metadata": {
    "slideshow": {
     "slide_type": "subslide"
    }
   },
   "source": [
    "## PairPlot"
   ]
  },
  {
   "cell_type": "markdown",
   "metadata": {},
   "source": [
    "And now create a pairplot to visualize the relationships between the six columns"
   ]
  },
  {
   "cell_type": "markdown",
   "metadata": {},
   "source": [
    "### <font color=\"magenta\">Q16: Create a pairplot to show the pair-wise correlations of crime rate per capita plus the top5_correlated_variables."
   ]
  },
  {
   "cell_type": "code",
   "execution_count": 329,
   "metadata": {
    "scrolled": true
   },
   "outputs": [
    {
     "data": {
      "text/plain": [
       "<seaborn.axisgrid.PairGrid at 0x1c97e12a58>"
      ]
     },
     "execution_count": 329,
     "metadata": {},
     "output_type": "execute_result"
    },
    {
     "data": {
      "image/png": "[encoded data removed]",
      "text/plain": [
       "<matplotlib.figure.Figure at 0x1c97e87550>"
      ]
     },
     "metadata": {},
     "output_type": "display_data"
    }
   ],
   "source": [
    "sns.pairplot(UScrime[['y'] + top5_correlated_variables])"
   ]
  },
  {
   "cell_type": "markdown",
   "metadata": {},
   "source": [
    "## Pearson's r, Kendall's tau, Spearman's rho"
   ]
  },
  {
   "cell_type": "markdown",
   "metadata": {},
   "source": [
    "Rules of Thumb:\n",
    "\n",
    "1. We would prefer to use ***Pearson's r*** when\n",
    "\n",
    "           1) we know the two variables follow a bivariate normal distribution;\n",
    "   \n",
    "       AND 2) the relationship between the two variables is linear.\n",
    "       \n",
    "       AND 3) the error terms of the regression are constant and not dependent on x-value\n",
    "\n",
    "2. We would prefer to use ***Kendall's tau*** and ***Spearman's rho*** when\n",
    "\n",
    "            1) we do not know if there holds the normal assumption about the data;\n",
    "\n",
    "        OR  2) the relationship between the two variables is non-linear;\n",
    "\n",
    "        OR  2) there are highly influential outliers;\n",
    "\n",
    "        OR  3) the data is highly skewed"
   ]
  },
  {
   "cell_type": "markdown",
   "metadata": {},
   "source": [
    "### <font color=\"magenta\">Q17: Compute the correlations between crime rate per capita (y) and GDP using Pearson's r, Kendall's tau, Spearman's rho."
   ]
  },
  {
   "cell_type": "code",
   "execution_count": 293,
   "metadata": {
    "collapsed": true
   },
   "outputs": [],
   "source": [
    "from scipy import stats"
   ]
  },
  {
   "cell_type": "markdown",
   "metadata": {},
   "source": [
    "Hint:\n",
    "    1. stats.pearsonr(.., ..)\n",
    "    2. stats.kendalltau(.., ..)\n",
    "    3. stats.spearmanr(.., ..)\n",
    "    4. all three functions return the correlation and its associated p-value"
   ]
  },
  {
   "cell_type": "code",
   "execution_count": 292,
   "metadata": {
    "scrolled": true,
    "slideshow": {
     "slide_type": "subslide"
    }
   },
   "outputs": [
    {
     "name": "stdout",
     "output_type": "stream",
     "text": [
      "Pearson's r: 0.441319948973 0.00190166929379\n",
      "Kendall's tau: 0.292728146268 0.0037527684575\n",
      "Spearman's rho: 0.399838098985 0.00536050207883\n"
     ]
    }
   ],
   "source": [
    "r, p_value = stats.pearsonr(UScrime['y'], UScrime['GDP'])\n",
    "print(\"Pearson's r:\",r,p_value)\n",
    "tau, p_value = stats.kendalltau(UScrime['y'], UScrime['GDP'])\n",
    "print(\"Kendall's tau:\",tau,p_value)\n",
    "correlation,pvalue = stats.spearmanr(UScrime['y'], UScrime['GDP'])\n",
    "print(\"Spearman's rho:\",correlation,pvalue)"
   ]
  },
  {
   "cell_type": "markdown",
   "metadata": {},
   "source": [
    "## Ordinary Least Squares (OLS) Regression"
   ]
  },
  {
   "cell_type": "code",
   "execution_count": 307,
   "metadata": {
    "collapsed": true
   },
   "outputs": [],
   "source": [
    "import statsmodels.api as sm\n",
    "import statsmodels.formula.api as smf"
   ]
  },
  {
   "cell_type": "markdown",
   "metadata": {},
   "source": [
    "### <font color=\"magenta\">Q18: Regress crime rate per capita on the top5_correlated_variables. Which explanatory variables are statistically significant?"
   ]
  },
  {
   "cell_type": "code",
   "execution_count": 435,
   "metadata": {
    "scrolled": true
   },
   "outputs": [
    {
     "data": {
      "text/html": [
       "<table class=\"simpletable\">\n",
       "<caption>OLS Regression Results</caption>\n",
       "<tr>\n",
       "  <th>Dep. Variable:</th>            <td>y</td>        <th>  R-squared:         </th> <td>   0.545</td>\n",
       "</tr>\n",
       "<tr>\n",
       "  <th>Model:</th>                   <td>OLS</td>       <th>  Adj. R-squared:    </th> <td>   0.501</td>\n",
       "</tr>\n",
       "<tr>\n",
       "  <th>Method:</th>             <td>Least Squares</td>  <th>  F-statistic:       </th> <td>   12.56</td>\n",
       "</tr>\n",
       "<tr>\n",
       "  <th>Date:</th>             <td>Sun, 28 Jan 2018</td> <th>  Prob (F-statistic):</th> <td>8.29e-07</td>\n",
       "</tr>\n",
       "<tr>\n",
       "  <th>Time:</th>                 <td>21:05:14</td>     <th>  Log-Likelihood:    </th> <td> -327.71</td>\n",
       "</tr>\n",
       "<tr>\n",
       "  <th>No. Observations:</th>      <td>    47</td>      <th>  AIC:               </th> <td>   665.4</td>\n",
       "</tr>\n",
       "<tr>\n",
       "  <th>Df Residuals:</th>          <td>    42</td>      <th>  BIC:               </th> <td>   674.7</td>\n",
       "</tr>\n",
       "<tr>\n",
       "  <th>Df Model:</th>              <td>     4</td>      <th>                     </th>     <td> </td>   \n",
       "</tr>\n",
       "<tr>\n",
       "  <th>Covariance Type:</th>      <td>nonrobust</td>    <th>                     </th>     <td> </td>   \n",
       "</tr>\n",
       "</table>\n",
       "<table class=\"simpletable\">\n",
       "<tr>\n",
       "      <td></td>         <th>coef</th>     <th>std err</th>      <th>t</th>      <th>P>|t|</th>  <th>[0.025</th>    <th>0.975]</th>  \n",
       "</tr>\n",
       "<tr>\n",
       "  <th>Intercept</th> <td>  849.8077</td> <td>  342.751</td> <td>    2.479</td> <td> 0.017</td> <td>  158.107</td> <td> 1541.508</td>\n",
       "</tr>\n",
       "<tr>\n",
       "  <th>Po1</th>       <td>   24.2491</td> <td>   12.000</td> <td>    2.021</td> <td> 0.050</td> <td>    0.033</td> <td>   48.465</td>\n",
       "</tr>\n",
       "<tr>\n",
       "  <th>Po2</th>       <td>  -14.1238</td> <td>   12.938</td> <td>   -1.092</td> <td> 0.281</td> <td>  -40.235</td> <td>   11.987</td>\n",
       "</tr>\n",
       "<tr>\n",
       "  <th>GDP</th>       <td>   -1.3353</td> <td>    0.730</td> <td>   -1.830</td> <td> 0.074</td> <td>   -2.808</td> <td>    0.137</td>\n",
       "</tr>\n",
       "<tr>\n",
       "  <th>Prob</th>      <td>-3633.8717</td> <td> 2135.990</td> <td>   -1.701</td> <td> 0.096</td> <td>-7944.473</td> <td>  676.730</td>\n",
       "</tr>\n",
       "</table>\n",
       "<table class=\"simpletable\">\n",
       "<tr>\n",
       "  <th>Omnibus:</th>       <td> 2.761</td> <th>  Durbin-Watson:     </th> <td>   2.266</td>\n",
       "</tr>\n",
       "<tr>\n",
       "  <th>Prob(Omnibus):</th> <td> 0.251</td> <th>  Jarque-Bera (JB):  </th> <td>   1.936</td>\n",
       "</tr>\n",
       "<tr>\n",
       "  <th>Skew:</th>          <td>-0.482</td> <th>  Prob(JB):          </th> <td>   0.380</td>\n",
       "</tr>\n",
       "<tr>\n",
       "  <th>Kurtosis:</th>      <td> 3.245</td> <th>  Cond. No.          </th> <td>2.95e+04</td>\n",
       "</tr>\n",
       "</table>"
      ],
      "text/plain": [
       "<class 'statsmodels.iolib.summary.Summary'>\n",
       "\"\"\"\n",
       "                            OLS Regression Results                            \n",
       "==============================================================================\n",
       "Dep. Variable:                      y   R-squared:                       0.545\n",
       "Model:                            OLS   Adj. R-squared:                  0.501\n",
       "Method:                 Least Squares   F-statistic:                     12.56\n",
       "Date:                Sun, 28 Jan 2018   Prob (F-statistic):           8.29e-07\n",
       "Time:                        21:05:14   Log-Likelihood:                -327.71\n",
       "No. Observations:                  47   AIC:                             665.4\n",
       "Df Residuals:                      42   BIC:                             674.7\n",
       "Df Model:                           4                                         \n",
       "Covariance Type:            nonrobust                                         \n",
       "==============================================================================\n",
       "                 coef    std err          t      P>|t|      [0.025      0.975]\n",
       "------------------------------------------------------------------------------\n",
       "Intercept    849.8077    342.751      2.479      0.017     158.107    1541.508\n",
       "Po1           24.2491     12.000      2.021      0.050       0.033      48.465\n",
       "Po2          -14.1238     12.938     -1.092      0.281     -40.235      11.987\n",
       "GDP           -1.3353      0.730     -1.830      0.074      -2.808       0.137\n",
       "Prob       -3633.8717   2135.990     -1.701      0.096   -7944.473     676.730\n",
       "==============================================================================\n",
       "Omnibus:                        2.761   Durbin-Watson:                   2.266\n",
       "Prob(Omnibus):                  0.251   Jarque-Bera (JB):                1.936\n",
       "Skew:                          -0.482   Prob(JB):                        0.380\n",
       "Kurtosis:                       3.245   Cond. No.                     2.95e+04\n",
       "==============================================================================\n",
       "\n",
       "Warnings:\n",
       "[1] Standard Errors assume that the covariance matrix of the errors is correctly specified.\n",
       "[2] The condition number is large, 2.95e+04. This might indicate that there are\n",
       "strong multicollinearity or other numerical problems.\n",
       "\"\"\""
      ]
     },
     "execution_count": 435,
     "metadata": {},
     "output_type": "execute_result"
    }
   ],
   "source": [
    "model1 = smf.ols('y ~ ' + '+'.join(top5_correlated_variables), data=UScrime).fit()\n",
    "model1.summary()"
   ]
  },
  {
   "cell_type": "markdown",
   "metadata": {},
   "source": [
    "Now if you want to compare the per unit contribution of each variable to crime rate per capita, you would need to normalize the variables so that their values are on the same scale and are comparable."
   ]
  },
  {
   "cell_type": "code",
   "execution_count": 453,
   "metadata": {
    "collapsed": true
   },
   "outputs": [],
   "source": [
    "from IPython.display import Image\n",
    "from IPython.core.display import HTML "
   ]
  },
  {
   "cell_type": "markdown",
   "metadata": {},
   "source": [
    "There are different ways of normalization, and the two popular methods are:\n",
    "    1. Min-Max Scaling\n",
    "    2. Standardization"
   ]
  },
  {
   "cell_type": "markdown",
   "metadata": {},
   "source": [
    "Here we use Min-Max Scaling:"
   ]
  },
  {
   "cell_type": "code",
   "execution_count": 449,
   "metadata": {},
   "outputs": [
    {
     "data": {
      "text/html": [
       "<table class=\"simpletable\">\n",
       "<caption>OLS Regression Results</caption>\n",
       "<tr>\n",
       "  <th>Dep. Variable:</th>            <td>y</td>        <th>  R-squared:         </th> <td>   0.545</td>\n",
       "</tr>\n",
       "<tr>\n",
       "  <th>Model:</th>                   <td>OLS</td>       <th>  Adj. R-squared:    </th> <td>   0.501</td>\n",
       "</tr>\n",
       "<tr>\n",
       "  <th>Method:</th>             <td>Least Squares</td>  <th>  F-statistic:       </th> <td>   12.56</td>\n",
       "</tr>\n",
       "<tr>\n",
       "  <th>Date:</th>             <td>Sun, 28 Jan 2018</td> <th>  Prob (F-statistic):</th> <td>8.29e-07</td>\n",
       "</tr>\n",
       "<tr>\n",
       "  <th>Time:</th>                 <td>21:20:36</td>     <th>  Log-Likelihood:    </th> <td> -327.71</td>\n",
       "</tr>\n",
       "<tr>\n",
       "  <th>No. Observations:</th>      <td>    47</td>      <th>  AIC:               </th> <td>   665.4</td>\n",
       "</tr>\n",
       "<tr>\n",
       "  <th>Df Residuals:</th>          <td>    42</td>      <th>  BIC:               </th> <td>   674.7</td>\n",
       "</tr>\n",
       "<tr>\n",
       "  <th>Df Model:</th>              <td>     4</td>      <th>                     </th>     <td> </td>   \n",
       "</tr>\n",
       "<tr>\n",
       "  <th>Covariance Type:</th>      <td>nonrobust</td>    <th>                     </th>     <td> </td>   \n",
       "</tr>\n",
       "</table>\n",
       "<table class=\"simpletable\">\n",
       "<tr>\n",
       "      <td></td>         <th>coef</th>     <th>std err</th>      <th>t</th>      <th>P>|t|</th>  <th>[0.025</th>    <th>0.975]</th>  \n",
       "</tr>\n",
       "<tr>\n",
       "  <th>Intercept</th> <td>  952.2911</td> <td>  187.663</td> <td>    5.074</td> <td> 0.000</td> <td>  573.572</td> <td> 1331.010</td>\n",
       "</tr>\n",
       "<tr>\n",
       "  <th>Po1</th>       <td> 2934.1359</td> <td> 1451.945</td> <td>    2.021</td> <td> 0.050</td> <td>    3.992</td> <td> 5864.279</td>\n",
       "</tr>\n",
       "<tr>\n",
       "  <th>Po2</th>       <td>-1638.3579</td> <td> 1500.863</td> <td>   -1.092</td> <td> 0.281</td> <td>-4667.223</td> <td> 1390.507</td>\n",
       "</tr>\n",
       "<tr>\n",
       "  <th>GDP</th>       <td> -535.4682</td> <td>  292.638</td> <td>   -1.830</td> <td> 0.074</td> <td>-1126.036</td> <td>   55.099</td>\n",
       "</tr>\n",
       "<tr>\n",
       "  <th>Prob</th>      <td> -410.2787</td> <td>  241.162</td> <td>   -1.701</td> <td> 0.096</td> <td> -896.963</td> <td>   76.405</td>\n",
       "</tr>\n",
       "</table>\n",
       "<table class=\"simpletable\">\n",
       "<tr>\n",
       "  <th>Omnibus:</th>       <td> 2.761</td> <th>  Durbin-Watson:     </th> <td>   2.266</td>\n",
       "</tr>\n",
       "<tr>\n",
       "  <th>Prob(Omnibus):</th> <td> 0.251</td> <th>  Jarque-Bera (JB):  </th> <td>   1.936</td>\n",
       "</tr>\n",
       "<tr>\n",
       "  <th>Skew:</th>          <td>-0.482</td> <th>  Prob(JB):          </th> <td>   0.380</td>\n",
       "</tr>\n",
       "<tr>\n",
       "  <th>Kurtosis:</th>      <td> 3.245</td> <th>  Cond. No.          </th> <td>    68.9</td>\n",
       "</tr>\n",
       "</table>"
      ],
      "text/plain": [
       "<class 'statsmodels.iolib.summary.Summary'>\n",
       "\"\"\"\n",
       "                            OLS Regression Results                            \n",
       "==============================================================================\n",
       "Dep. Variable:                      y   R-squared:                       0.545\n",
       "Model:                            OLS   Adj. R-squared:                  0.501\n",
       "Method:                 Least Squares   F-statistic:                     12.56\n",
       "Date:                Sun, 28 Jan 2018   Prob (F-statistic):           8.29e-07\n",
       "Time:                        21:20:36   Log-Likelihood:                -327.71\n",
       "No. Observations:                  47   AIC:                             665.4\n",
       "Df Residuals:                      42   BIC:                             674.7\n",
       "Df Model:                           4                                         \n",
       "Covariance Type:            nonrobust                                         \n",
       "==============================================================================\n",
       "                 coef    std err          t      P>|t|      [0.025      0.975]\n",
       "------------------------------------------------------------------------------\n",
       "Intercept    952.2911    187.663      5.074      0.000     573.572    1331.010\n",
       "Po1         2934.1359   1451.945      2.021      0.050       3.992    5864.279\n",
       "Po2        -1638.3579   1500.863     -1.092      0.281   -4667.223    1390.507\n",
       "GDP         -535.4682    292.638     -1.830      0.074   -1126.036      55.099\n",
       "Prob        -410.2787    241.162     -1.701      0.096    -896.963      76.405\n",
       "==============================================================================\n",
       "Omnibus:                        2.761   Durbin-Watson:                   2.266\n",
       "Prob(Omnibus):                  0.251   Jarque-Bera (JB):                1.936\n",
       "Skew:                          -0.482   Prob(JB):                        0.380\n",
       "Kurtosis:                       3.245   Cond. No.                         68.9\n",
       "==============================================================================\n",
       "\n",
       "Warnings:\n",
       "[1] Standard Errors assume that the covariance matrix of the errors is correctly specified.\n",
       "\"\"\""
      ]
     },
     "execution_count": 449,
     "metadata": {},
     "output_type": "execute_result"
    }
   ],
   "source": [
    "UScrime[top5_correlated_variables] = UScrime[top5_correlated_variables].apply(lambda x: \n",
    "                                                                              (x-np.min(x)) / (np.max(x)-np.min(x)), axis=0)"
   ]
  },
  {
   "cell_type": "markdown",
   "metadata": {},
   "source": [
    "### <font color=\"magenta\">Q19: Build the regression model with the same variables again. Comparing the result to the previous model, what have changed and what have not changed?"
   ]
  },
  {
   "cell_type": "code",
   "execution_count": 452,
   "metadata": {},
   "outputs": [
    {
     "data": {
      "text/html": [
       "<table class=\"simpletable\">\n",
       "<caption>OLS Regression Results</caption>\n",
       "<tr>\n",
       "  <th>Dep. Variable:</th>            <td>y</td>        <th>  R-squared:         </th> <td>   0.545</td>\n",
       "</tr>\n",
       "<tr>\n",
       "  <th>Model:</th>                   <td>OLS</td>       <th>  Adj. R-squared:    </th> <td>   0.501</td>\n",
       "</tr>\n",
       "<tr>\n",
       "  <th>Method:</th>             <td>Least Squares</td>  <th>  F-statistic:       </th> <td>   12.56</td>\n",
       "</tr>\n",
       "<tr>\n",
       "  <th>Date:</th>             <td>Sun, 28 Jan 2018</td> <th>  Prob (F-statistic):</th> <td>8.29e-07</td>\n",
       "</tr>\n",
       "<tr>\n",
       "  <th>Time:</th>                 <td>21:30:33</td>     <th>  Log-Likelihood:    </th> <td> -327.71</td>\n",
       "</tr>\n",
       "<tr>\n",
       "  <th>No. Observations:</th>      <td>    47</td>      <th>  AIC:               </th> <td>   665.4</td>\n",
       "</tr>\n",
       "<tr>\n",
       "  <th>Df Residuals:</th>          <td>    42</td>      <th>  BIC:               </th> <td>   674.7</td>\n",
       "</tr>\n",
       "<tr>\n",
       "  <th>Df Model:</th>              <td>     4</td>      <th>                     </th>     <td> </td>   \n",
       "</tr>\n",
       "<tr>\n",
       "  <th>Covariance Type:</th>      <td>nonrobust</td>    <th>                     </th>     <td> </td>   \n",
       "</tr>\n",
       "</table>\n",
       "<table class=\"simpletable\">\n",
       "<tr>\n",
       "      <td></td>         <th>coef</th>     <th>std err</th>      <th>t</th>      <th>P>|t|</th>  <th>[0.025</th>    <th>0.975]</th>  \n",
       "</tr>\n",
       "<tr>\n",
       "  <th>Intercept</th> <td>  952.2911</td> <td>  187.663</td> <td>    5.074</td> <td> 0.000</td> <td>  573.572</td> <td> 1331.010</td>\n",
       "</tr>\n",
       "<tr>\n",
       "  <th>Po1</th>       <td> 2934.1359</td> <td> 1451.945</td> <td>    2.021</td> <td> 0.050</td> <td>    3.992</td> <td> 5864.279</td>\n",
       "</tr>\n",
       "<tr>\n",
       "  <th>Po2</th>       <td>-1638.3579</td> <td> 1500.863</td> <td>   -1.092</td> <td> 0.281</td> <td>-4667.223</td> <td> 1390.507</td>\n",
       "</tr>\n",
       "<tr>\n",
       "  <th>GDP</th>       <td> -535.4682</td> <td>  292.638</td> <td>   -1.830</td> <td> 0.074</td> <td>-1126.036</td> <td>   55.099</td>\n",
       "</tr>\n",
       "<tr>\n",
       "  <th>Prob</th>      <td> -410.2787</td> <td>  241.162</td> <td>   -1.701</td> <td> 0.096</td> <td> -896.963</td> <td>   76.405</td>\n",
       "</tr>\n",
       "</table>\n",
       "<table class=\"simpletable\">\n",
       "<tr>\n",
       "  <th>Omnibus:</th>       <td> 2.761</td> <th>  Durbin-Watson:     </th> <td>   2.266</td>\n",
       "</tr>\n",
       "<tr>\n",
       "  <th>Prob(Omnibus):</th> <td> 0.251</td> <th>  Jarque-Bera (JB):  </th> <td>   1.936</td>\n",
       "</tr>\n",
       "<tr>\n",
       "  <th>Skew:</th>          <td>-0.482</td> <th>  Prob(JB):          </th> <td>   0.380</td>\n",
       "</tr>\n",
       "<tr>\n",
       "  <th>Kurtosis:</th>      <td> 3.245</td> <th>  Cond. No.          </th> <td>    68.9</td>\n",
       "</tr>\n",
       "</table>"
      ],
      "text/plain": [
       "<class 'statsmodels.iolib.summary.Summary'>\n",
       "\"\"\"\n",
       "                            OLS Regression Results                            \n",
       "==============================================================================\n",
       "Dep. Variable:                      y   R-squared:                       0.545\n",
       "Model:                            OLS   Adj. R-squared:                  0.501\n",
       "Method:                 Least Squares   F-statistic:                     12.56\n",
       "Date:                Sun, 28 Jan 2018   Prob (F-statistic):           8.29e-07\n",
       "Time:                        21:30:33   Log-Likelihood:                -327.71\n",
       "No. Observations:                  47   AIC:                             665.4\n",
       "Df Residuals:                      42   BIC:                             674.7\n",
       "Df Model:                           4                                         \n",
       "Covariance Type:            nonrobust                                         \n",
       "==============================================================================\n",
       "                 coef    std err          t      P>|t|      [0.025      0.975]\n",
       "------------------------------------------------------------------------------\n",
       "Intercept    952.2911    187.663      5.074      0.000     573.572    1331.010\n",
       "Po1         2934.1359   1451.945      2.021      0.050       3.992    5864.279\n",
       "Po2        -1638.3579   1500.863     -1.092      0.281   -4667.223    1390.507\n",
       "GDP         -535.4682    292.638     -1.830      0.074   -1126.036      55.099\n",
       "Prob        -410.2787    241.162     -1.701      0.096    -896.963      76.405\n",
       "==============================================================================\n",
       "Omnibus:                        2.761   Durbin-Watson:                   2.266\n",
       "Prob(Omnibus):                  0.251   Jarque-Bera (JB):                1.936\n",
       "Skew:                          -0.482   Prob(JB):                        0.380\n",
       "Kurtosis:                       3.245   Cond. No.                         68.9\n",
       "==============================================================================\n",
       "\n",
       "Warnings:\n",
       "[1] Standard Errors assume that the covariance matrix of the errors is correctly specified.\n",
       "\"\"\""
      ]
     },
     "execution_count": 452,
     "metadata": {},
     "output_type": "execute_result"
    }
   ],
   "source": [
    "model2 = smf.ols('y ~ ' + '+'.join(top5_correlated_variables), data=UScrime).fit()\n",
    "model2.summary()"
   ]
  },
  {
   "cell_type": "markdown",
   "metadata": {},
   "source": [
    "## T-test"
   ]
  },
  {
   "cell_type": "markdown",
   "metadata": {},
   "source": [
    "### <font color=\"magenta\">Q20: Conduct a t-test to check if the means of crime rate per capit are equal for Southern and Northern state. Please specify your (null and alternative) hypotheses and explain your findings."
   ]
  },
  {
   "cell_type": "markdown",
   "metadata": {},
   "source": [
    "Hint: stats.ttest_ind()"
   ]
  },
  {
   "cell_type": "code",
   "execution_count": 297,
   "metadata": {},
   "outputs": [
    {
     "data": {
      "text/plain": [
       "Ttest_indResult(statistic=0.61052412168950276, pvalue=0.5445860096828905)"
      ]
     },
     "execution_count": 297,
     "metadata": {},
     "output_type": "execute_result"
    }
   ],
   "source": [
    "stats.ttest_ind(UScrime[UScrime.So==0]['y'].dropna(), UScrime[UScrime.So==1]['y'].dropna())"
   ]
  }
 ],
 "metadata": {
  "kernelspec": {
   "display_name": "Python 3",
   "language": "python",
   "name": "python3"
  },
  "language_info": {
   "codemirror_mode": {
    "name": "ipython",
    "version": 3
   },
   "file_extension": ".py",
   "mimetype": "text/x-python",
   "name": "python",
   "nbconvert_exporter": "python",
   "pygments_lexer": "ipython3",
   "version": "3.6.3"
  }
 },
 "nbformat": 4,
 "nbformat_minor": 2
}
