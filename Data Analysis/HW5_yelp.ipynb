{
 "cells": [
  {
   "cell_type": "markdown",
   "metadata": {},
   "source": [
    "# SI 618 WN 2018 - Homework 5: Using the Spark SQL to analyze Yelp Business Data"
   ]
  },
  {
   "cell_type": "markdown",
   "metadata": {},
   "source": [
    "## Objectives\n",
    "1. To gain familiarity with Spark SQL;\n",
    "2. To master filtering, aggregating, and sorting a Spark DataFrame;\n",
    "3. To learn joining multiple Spark DataFrames;\n",
    "3. To review visualizing Pandas DataFrame using Seaborn."
   ]
  },
  {
   "cell_type": "markdown",
   "metadata": {},
   "source": [
    "## Please fill in...\n",
    "### * Your name: Anthony Cozart\n",
    "### * People you worked with:  "
   ]
  },
  {
   "cell_type": "markdown",
   "metadata": {},
   "source": [
    "## Submission Instructions:\n",
    "Please turn in this Jupyter notebook file (in both .ipynb and .html formats) via Canvas."
   ]
  },
  {
   "cell_type": "markdown",
   "metadata": {},
   "source": [
    "## Overview\n",
    "\n",
    "This project is designed to give you a basic familiarity with the Apache Spark SQL module."
   ]
  },
  {
   "cell_type": "markdown",
   "metadata": {},
   "source": [
    "## Data\n",
    "We are going to use Yelp academic dataset. We will conduct a city-level analysis throughout the assignment. The descriptions of the data can be found on here: https://www.yelp.com/dataset/documentation/json"
   ]
  },
  {
   "cell_type": "code",
   "execution_count": 125,
   "metadata": {
    "collapsed": true
   },
   "outputs": [],
   "source": [
    "from pyspark.sql import SparkSession"
   ]
  },
  {
   "cell_type": "code",
   "execution_count": 126,
   "metadata": {
    "collapsed": true
   },
   "outputs": [],
   "source": [
    "from pyspark.sql import functions as F\n",
    "from pyspark.sql.functions import array_contains, col, explode"
   ]
  },
  {
   "cell_type": "markdown",
   "metadata": {},
   "source": [
    "### Step 1a: Initialize a SparkSession"
   ]
  },
  {
   "cell_type": "code",
   "execution_count": 127,
   "metadata": {
    "collapsed": true
   },
   "outputs": [],
   "source": [
    "spark = SparkSession \\\n",
    "    .builder \\\n",
    "    .appName(\"Cozart Hw 5 pyspark\") \\\n",
    "    .getOrCreate()"
   ]
  },
  {
   "cell_type": "markdown",
   "metadata": {},
   "source": [
    "### Step 1b: Load the JSON file into Spark"
   ]
  },
  {
   "cell_type": "code",
   "execution_count": 128,
   "metadata": {
    "collapsed": true
   },
   "outputs": [],
   "source": [
    "df = spark.read.json(\"yelp_academic_dataset_business.json\")"
   ]
  },
  {
   "cell_type": "markdown",
   "metadata": {},
   "source": [
    "### Step 1c: Print the schema and familiarize yourself with the structure of the dataset"
   ]
  },
  {
   "cell_type": "code",
   "execution_count": 129,
   "metadata": {},
   "outputs": [
    {
     "name": "stdout",
     "output_type": "stream",
     "text": [
      "root\n",
      " |-- attributes: struct (nullable = true)\n",
      " |    |-- Accepts Credit Cards: boolean (nullable = true)\n",
      " |    |-- Accepts Insurance: boolean (nullable = true)\n",
      " |    |-- Ages Allowed: string (nullable = true)\n",
      " |    |-- Alcohol: string (nullable = true)\n",
      " |    |-- Ambience: struct (nullable = true)\n",
      " |    |    |-- casual: boolean (nullable = true)\n",
      " |    |    |-- classy: boolean (nullable = true)\n",
      " |    |    |-- divey: boolean (nullable = true)\n",
      " |    |    |-- hipster: boolean (nullable = true)\n",
      " |    |    |-- intimate: boolean (nullable = true)\n",
      " |    |    |-- romantic: boolean (nullable = true)\n",
      " |    |    |-- touristy: boolean (nullable = true)\n",
      " |    |    |-- trendy: boolean (nullable = true)\n",
      " |    |    |-- upscale: boolean (nullable = true)\n",
      " |    |-- Attire: string (nullable = true)\n",
      " |    |-- BYOB: boolean (nullable = true)\n",
      " |    |-- BYOB/Corkage: string (nullable = true)\n",
      " |    |-- By Appointment Only: boolean (nullable = true)\n",
      " |    |-- Caters: boolean (nullable = true)\n",
      " |    |-- Coat Check: boolean (nullable = true)\n",
      " |    |-- Corkage: boolean (nullable = true)\n",
      " |    |-- Delivery: boolean (nullable = true)\n",
      " |    |-- Dietary Restrictions: struct (nullable = true)\n",
      " |    |    |-- dairy-free: boolean (nullable = true)\n",
      " |    |    |-- gluten-free: boolean (nullable = true)\n",
      " |    |    |-- halal: boolean (nullable = true)\n",
      " |    |    |-- kosher: boolean (nullable = true)\n",
      " |    |    |-- soy-free: boolean (nullable = true)\n",
      " |    |    |-- vegan: boolean (nullable = true)\n",
      " |    |    |-- vegetarian: boolean (nullable = true)\n",
      " |    |-- Dogs Allowed: boolean (nullable = true)\n",
      " |    |-- Drive-Thru: boolean (nullable = true)\n",
      " |    |-- Good For: struct (nullable = true)\n",
      " |    |    |-- breakfast: boolean (nullable = true)\n",
      " |    |    |-- brunch: boolean (nullable = true)\n",
      " |    |    |-- dessert: boolean (nullable = true)\n",
      " |    |    |-- dinner: boolean (nullable = true)\n",
      " |    |    |-- latenight: boolean (nullable = true)\n",
      " |    |    |-- lunch: boolean (nullable = true)\n",
      " |    |-- Good For Dancing: boolean (nullable = true)\n",
      " |    |-- Good For Groups: boolean (nullable = true)\n",
      " |    |-- Good for Kids: boolean (nullable = true)\n",
      " |    |-- Hair Types Specialized In: struct (nullable = true)\n",
      " |    |    |-- africanamerican: boolean (nullable = true)\n",
      " |    |    |-- asian: boolean (nullable = true)\n",
      " |    |    |-- coloring: boolean (nullable = true)\n",
      " |    |    |-- curly: boolean (nullable = true)\n",
      " |    |    |-- extensions: boolean (nullable = true)\n",
      " |    |    |-- kids: boolean (nullable = true)\n",
      " |    |    |-- perms: boolean (nullable = true)\n",
      " |    |    |-- straightperms: boolean (nullable = true)\n",
      " |    |-- Happy Hour: boolean (nullable = true)\n",
      " |    |-- Has TV: boolean (nullable = true)\n",
      " |    |-- Music: struct (nullable = true)\n",
      " |    |    |-- background_music: boolean (nullable = true)\n",
      " |    |    |-- dj: boolean (nullable = true)\n",
      " |    |    |-- jukebox: boolean (nullable = true)\n",
      " |    |    |-- karaoke: boolean (nullable = true)\n",
      " |    |    |-- live: boolean (nullable = true)\n",
      " |    |    |-- video: boolean (nullable = true)\n",
      " |    |-- Noise Level: string (nullable = true)\n",
      " |    |-- Open 24 Hours: boolean (nullable = true)\n",
      " |    |-- Order at Counter: boolean (nullable = true)\n",
      " |    |-- Outdoor Seating: boolean (nullable = true)\n",
      " |    |-- Parking: struct (nullable = true)\n",
      " |    |    |-- garage: boolean (nullable = true)\n",
      " |    |    |-- lot: boolean (nullable = true)\n",
      " |    |    |-- street: boolean (nullable = true)\n",
      " |    |    |-- valet: boolean (nullable = true)\n",
      " |    |    |-- validated: boolean (nullable = true)\n",
      " |    |-- Price Range: long (nullable = true)\n",
      " |    |-- Smoking: string (nullable = true)\n",
      " |    |-- Take-out: boolean (nullable = true)\n",
      " |    |-- Takes Reservations: boolean (nullable = true)\n",
      " |    |-- Waiter Service: boolean (nullable = true)\n",
      " |    |-- Wheelchair Accessible: boolean (nullable = true)\n",
      " |    |-- Wi-Fi: string (nullable = true)\n",
      " |-- business_id: string (nullable = true)\n",
      " |-- categories: array (nullable = true)\n",
      " |    |-- element: string (containsNull = true)\n",
      " |-- city: string (nullable = true)\n",
      " |-- full_address: string (nullable = true)\n",
      " |-- hours: struct (nullable = true)\n",
      " |    |-- Friday: struct (nullable = true)\n",
      " |    |    |-- close: string (nullable = true)\n",
      " |    |    |-- open: string (nullable = true)\n",
      " |    |-- Monday: struct (nullable = true)\n",
      " |    |    |-- close: string (nullable = true)\n",
      " |    |    |-- open: string (nullable = true)\n",
      " |    |-- Saturday: struct (nullable = true)\n",
      " |    |    |-- close: string (nullable = true)\n",
      " |    |    |-- open: string (nullable = true)\n",
      " |    |-- Sunday: struct (nullable = true)\n",
      " |    |    |-- close: string (nullable = true)\n",
      " |    |    |-- open: string (nullable = true)\n",
      " |    |-- Thursday: struct (nullable = true)\n",
      " |    |    |-- close: string (nullable = true)\n",
      " |    |    |-- open: string (nullable = true)\n",
      " |    |-- Tuesday: struct (nullable = true)\n",
      " |    |    |-- close: string (nullable = true)\n",
      " |    |    |-- open: string (nullable = true)\n",
      " |    |-- Wednesday: struct (nullable = true)\n",
      " |    |    |-- close: string (nullable = true)\n",
      " |    |    |-- open: string (nullable = true)\n",
      " |-- latitude: double (nullable = true)\n",
      " |-- longitude: double (nullable = true)\n",
      " |-- name: string (nullable = true)\n",
      " |-- neighborhoods: array (nullable = true)\n",
      " |    |-- element: string (containsNull = true)\n",
      " |-- open: boolean (nullable = true)\n",
      " |-- review_count: long (nullable = true)\n",
      " |-- stars: double (nullable = true)\n",
      " |-- state: string (nullable = true)\n",
      " |-- type: string (nullable = true)\n",
      "\n",
      "The number of rows of the dataset is:  85901\n",
      "The number of columns of the dataset is:  15\n"
     ]
    }
   ],
   "source": [
    "df.printSchema()\n",
    "print(\"The number of rows of the dataset is: \", df.count())\n",
    "print(\"The number of columns of the dataset is: \", len(df.columns))"
   ]
  },
  {
   "cell_type": "code",
   "execution_count": 130,
   "metadata": {},
   "outputs": [
    {
     "name": "stdout",
     "output_type": "stream",
     "text": [
      "+--------------------+--------------------+--------------------+----------+--------------------+--------------------+----------+-----------+---------+-------------+----+------------+-----+-----+--------+\n",
      "|          attributes|         business_id|          categories|      city|        full_address|               hours|  latitude|  longitude|     name|neighborhoods|open|review_count|stars|state|    type|\n",
      "+--------------------+--------------------+--------------------+----------+--------------------+--------------------+----------+-----------+---------+-------------+----+------------+-----+-----+--------+\n",
      "|[true,null,null,n...|5UmKMjUEUNdYWqANh...|[Fast Food, Resta...|Dravosburg|4734 Lebanon Chur...|[[21:00,11:00],[2...|40.3543266|-79.9007057|Mr Hoagie|           []|true|           7|  3.5|   PA|business|\n",
      "+--------------------+--------------------+--------------------+----------+--------------------+--------------------+----------+-----------+---------+-------------+----+------------+-----+-----+--------+\n",
      "only showing top 1 row\n",
      "\n"
     ]
    }
   ],
   "source": [
    "df.show(1)"
   ]
  },
  {
   "cell_type": "code",
   "execution_count": 131,
   "metadata": {
    "collapsed": true
   },
   "outputs": [],
   "source": [
    "us_states_list = [\"AL\",\"AK\",\"AZ\",\"CA\",\"FL\",\"IL\",\"MN\",\"NM\",\"NC\",\"NV\",\"PA\",\"TX\",\"SC\",\"WI\"]"
   ]
  },
  {
   "cell_type": "code",
   "execution_count": 132,
   "metadata": {},
   "outputs": [
    {
     "name": "stdout",
     "output_type": "stream",
     "text": [
      "+-----+------------------+\n",
      "|state|count(business_id)|\n",
      "+-----+------------------+\n",
      "|   AZ|             36500|\n",
      "|   NV|             23591|\n",
      "|   NC|              6835|\n",
      "|   QC|              5591|\n",
      "|   PA|              4086|\n",
      "|  EDH|              3297|\n",
      "|   WI|              3066|\n",
      "|   BW|              1055|\n",
      "|   IL|               808|\n",
      "|   ON|               530|\n",
      "|   SC|               325|\n",
      "|  MLN|               161|\n",
      "|   RP|                18|\n",
      "|  ELN|                11|\n",
      "|  FIF|                 5|\n",
      "|   CA|                 4|\n",
      "|   TX|                 3|\n",
      "|   FL|                 2|\n",
      "|  SCB|                 2|\n",
      "|   MN|                 1|\n",
      "|  NTH|                 1|\n",
      "|   NW|                 1|\n",
      "|  HAM|                 1|\n",
      "|   NM|                 1|\n",
      "|  KHL|                 1|\n",
      "|  XGL|                 1|\n",
      "|   AL|                 1|\n",
      "|  TAM|                 1|\n",
      "|     |                 1|\n",
      "|   AK|                 1|\n",
      "+-----+------------------+\n",
      "\n"
     ]
    }
   ],
   "source": [
    "# check if this list is comprehensive\n",
    "all_states = df.groupBy(df['state']).agg(({'business_id': 'count'})).orderBy(['count(business_id)'], ascending=False)\n",
    "all_states.show(50)"
   ]
  },
  {
   "cell_type": "markdown",
   "metadata": {},
   "source": [
    "### Step 2: Filter \"df\" to include only businesses in the United States."
   ]
  },
  {
   "cell_type": "code",
   "execution_count": 133,
   "metadata": {},
   "outputs": [
    {
     "name": "stdout",
     "output_type": "stream",
     "text": [
      "The number of rows of the US ONLY dataset is:  75224\n",
      "Note: columns unchanged\n"
     ]
    }
   ],
   "source": [
    "US = df.filter(df['state'].isin(us_states_list))\n",
    "print(\"The number of rows of the US ONLY dataset is: \", US.count())\n",
    "print(\"Note: columns unchanged\")"
   ]
  },
  {
   "cell_type": "markdown",
   "metadata": {},
   "source": [
    "### Step 3: Show the U.S. cities, and their number of businesses in descending order."
   ]
  },
  {
   "cell_type": "code",
   "execution_count": 134,
   "metadata": {
    "collapsed": true
   },
   "outputs": [],
   "source": [
    "biz_count = US.groupBy(['city']).agg({'business_id': 'count'}).orderBy(['count(business_id)'], ascending=False)"
   ]
  },
  {
   "cell_type": "code",
   "execution_count": 135,
   "metadata": {},
   "outputs": [
    {
     "name": "stdout",
     "output_type": "stream",
     "text": [
      "+---------------+------------------+\n",
      "|           city|count(business_id)|\n",
      "+---------------+------------------+\n",
      "|      Las Vegas|             19327|\n",
      "|        Phoenix|             11852|\n",
      "|      Charlotte|              5695|\n",
      "|     Scottsdale|              5638|\n",
      "|           Mesa|              3638|\n",
      "|     Pittsburgh|              3628|\n",
      "|      Henderson|              3145|\n",
      "|          Tempe|              3043|\n",
      "|       Chandler|              2702|\n",
      "|        Madison|              2278|\n",
      "|       Glendale|              2048|\n",
      "|        Gilbert|              1941|\n",
      "|         Peoria|              1081|\n",
      "|North Las Vegas|               952|\n",
      "|       Surprise|               681|\n",
      "|       Goodyear|               507|\n",
      "|      Champaign|               505|\n",
      "|       Avondale|               427|\n",
      "|       Matthews|               399|\n",
      "|    Queen Creek|               383|\n",
      "+---------------+------------------+\n",
      "only showing top 20 rows\n",
      "\n"
     ]
    }
   ],
   "source": [
    "biz_count.show()"
   ]
  },
  {
   "cell_type": "markdown",
   "metadata": {},
   "source": [
    "### Step 4: Show the frequency distribution of stars in the U.S., ordered by stars from 1.0 to 5.0."
   ]
  },
  {
   "cell_type": "code",
   "execution_count": 136,
   "metadata": {},
   "outputs": [
    {
     "name": "stdout",
     "output_type": "stream",
     "text": [
      "+-----+------------+\n",
      "|stars|count(stars)|\n",
      "+-----+------------+\n",
      "|  1.0|        1041|\n",
      "|  1.5|        1770|\n",
      "|  2.0|        3494|\n",
      "|  2.5|        6768|\n",
      "|  3.0|        9709|\n",
      "|  3.5|       14146|\n",
      "|  4.0|       14480|\n",
      "|  4.5|       11467|\n",
      "|  5.0|       12349|\n",
      "+-----+------------+\n",
      "\n"
     ]
    }
   ],
   "source": [
    "stars_distribution = US.groupBy('stars').agg({'stars': 'count'}).orderBy(['stars'], ascending=True).show()"
   ]
  },
  {
   "cell_type": "markdown",
   "metadata": {},
   "source": [
    "### Step 5a: Find the list of U.S. cities that have at least(>=) 50 businesses."
   ]
  },
  {
   "cell_type": "code",
   "execution_count": 137,
   "metadata": {},
   "outputs": [
    {
     "name": "stdout",
     "output_type": "stream",
     "text": [
      "+---------------+------------------+\n",
      "|           city|count(business_id)|\n",
      "+---------------+------------------+\n",
      "|         Anthem|               135|\n",
      "|Apache Junction|               186|\n",
      "|       Avondale|               427|\n",
      "|        Belmont|                83|\n",
      "|        Buckeye|               163|\n",
      "|       Carefree|                54|\n",
      "|       Carnegie|                62|\n",
      "|    Casa Grande|               201|\n",
      "|     Cave Creek|               266|\n",
      "|      Champaign|               505|\n",
      "|       Chandler|              2702|\n",
      "|      Charlotte|              5695|\n",
      "|        Concord|               185|\n",
      "|      El Mirage|                63|\n",
      "|      Fitchburg|               136|\n",
      "|      Fort Mill|               287|\n",
      "| Fountain Hills|               204|\n",
      "|        Gilbert|              1941|\n",
      "|       Glendale|              2048|\n",
      "|       Goodyear|               507|\n",
      "+---------------+------------------+\n",
      "only showing top 20 rows\n",
      "\n"
     ]
    }
   ],
   "source": [
    "cities = biz_count.filter(biz_count['count(business_id)'] >= 50).orderBy(['city'], ascending=True)\n",
    "cities.show()"
   ]
  },
  {
   "cell_type": "markdown",
   "metadata": {},
   "source": [
    "### Step 5b: Filter \"US\" using the list of cities from 6a, to restrict our attention to cities with at least 50 businesses reviewed."
   ]
  },
  {
   "cell_type": "code",
   "execution_count": 138,
   "metadata": {},
   "outputs": [
    {
     "data": {
      "text/plain": [
       "50"
      ]
     },
     "execution_count": 138,
     "metadata": {},
     "output_type": "execute_result"
    }
   ],
   "source": [
    "cities.count()"
   ]
  },
  {
   "cell_type": "code",
   "execution_count": 139,
   "metadata": {},
   "outputs": [],
   "source": [
    "cities_list = cities.select('city').rdd.map(lambda row : row[0]).collect()"
   ]
  },
  {
   "cell_type": "code",
   "execution_count": 140,
   "metadata": {},
   "outputs": [
    {
     "name": "stdout",
     "output_type": "stream",
     "text": [
      "<class 'list'>\n",
      "50\n"
     ]
    }
   ],
   "source": [
    "print(type(cities_list))\n",
    "# check that the list has the same n of elements as the DataFrame column\n",
    "print(len(cities_list))"
   ]
  },
  {
   "cell_type": "code",
   "execution_count": 141,
   "metadata": {},
   "outputs": [
    {
     "data": {
      "text/plain": [
       "73974"
      ]
     },
     "execution_count": 141,
     "metadata": {},
     "output_type": "execute_result"
    }
   ],
   "source": [
    "US_large = US.filter(US['city'].isin(cities_list))\n",
    "US_large.count()"
   ]
  },
  {
   "cell_type": "code",
   "execution_count": 142,
   "metadata": {},
   "outputs": [
    {
     "name": "stdout",
     "output_type": "stream",
     "text": [
      "By restricting our attention to cities with at least 50 businesses reviewed in Yelp, we lose 1.661704% of reviews.\n"
     ]
    }
   ],
   "source": [
    "print(\"By restricting our attention to cities with at least 50 businesses reviewed in Yelp, we lose {0:%} of reviews.\".format(1-(US_large.count()/US.count())))"
   ]
  },
  {
   "cell_type": "markdown",
   "metadata": {},
   "source": [
    "### Step 6a: Compute the average stars for each city."
   ]
  },
  {
   "cell_type": "markdown",
   "metadata": {},
   "source": [
    "The Spark DataFrame should look similar to this:"
   ]
  },
  {
   "cell_type": "markdown",
   "metadata": {},
   "source": [
    "| city | avg(stars) |\n",
    "| --- | --- |\n",
    "| San Diego | 3.5 |\n",
    "| Pittsburgh | 3.5 |\n",
    "| ... | ... |\n"
   ]
  },
  {
   "cell_type": "code",
   "execution_count": 143,
   "metadata": {},
   "outputs": [],
   "source": [
    "avg_stars_by_city = US_large.groupBy('city').agg({'stars': 'avg'}).orderBy(['avg(stars)'], ascending=False)"
   ]
  },
  {
   "cell_type": "markdown",
   "metadata": {},
   "source": [
    "### Step 6b: What are the top 5 cities with the highest average stars?"
   ]
  },
  {
   "cell_type": "code",
   "execution_count": 144,
   "metadata": {},
   "outputs": [
    {
     "name": "stdout",
     "output_type": "stream",
     "text": [
      "+---------------+------------------+\n",
      "|           city|        avg(stars)|\n",
      "+---------------+------------------+\n",
      "|     Scottsdale|3.9065271372827244|\n",
      "|     Cave Creek| 3.892857142857143|\n",
      "|         Verona|3.8582089552238807|\n",
      "| Fountain Hills| 3.857843137254902|\n",
      "|Litchfield Park| 3.816666666666667|\n",
      "+---------------+------------------+\n",
      "only showing top 5 rows\n",
      "\n"
     ]
    }
   ],
   "source": [
    "top5_cities = avg_stars_by_city.show(5)"
   ]
  },
  {
   "cell_type": "markdown",
   "metadata": {},
   "source": [
    "### Step 7a: Define a city's \"weekend friendliness\" as the percentage of businesses open on Saturday and Sunday. Create a Spark DataFrame \"weekend_friendliness\" that gives a \"weekend friendliness\" for each city. "
   ]
  },
  {
   "cell_type": "markdown",
   "metadata": {},
   "source": [
    "#### Hint: use .isNotNull() in .filter()"
   ]
  },
  {
   "cell_type": "markdown",
   "metadata": {},
   "source": [
    "The Spark DataFrame should look similar to this:"
   ]
  },
  {
   "cell_type": "markdown",
   "metadata": {},
   "source": [
    "| city | weekend friendliness |\n",
    "| --- | --- |\n",
    "| San Diego | 0.5 |\n",
    "| Pittsburgh | 0.5 |\n",
    "| ... | ... |\n"
   ]
  },
  {
   "cell_type": "code",
   "execution_count": 145,
   "metadata": {},
   "outputs": [],
   "source": [
    "US_large = US_large.withColumn('weekend indicator', \n",
    "                               F.when(US_large['hours.Saturday'].isNotNull() | US_large['hours.Sunday'].isNotNull(), 1)\n",
    "                               .otherwise(0))"
   ]
  },
  {
   "cell_type": "code",
   "execution_count": 146,
   "metadata": {},
   "outputs": [],
   "source": [
    "weekend_friendliness = US_large.groupBy(['city']).agg({'weekend indicator': 'avg'})\n",
    "weekend_friendliness = weekend_friendliness.withColumnRenamed('avg(weekend indicator)', 'weekend_friendliness')\n",
    "weekend_friendliness = weekend_friendliness.withColumn('weekend_friendliness', weekend_friendliness['weekend_friendliness'] * 100)"
   ]
  },
  {
   "cell_type": "markdown",
   "metadata": {},
   "source": [
    "### Step 7b: What are the top 5 weekend friendly cities?"
   ]
  },
  {
   "cell_type": "code",
   "execution_count": 147,
   "metadata": {},
   "outputs": [
    {
     "name": "stdout",
     "output_type": "stream",
     "text": [
      "+--------------+--------------------+\n",
      "|          city|weekend_friendliness|\n",
      "+--------------+--------------------+\n",
      "|     Fitchburg|   72.05882352941177|\n",
      "|San Tan Valley|                71.0|\n",
      "|       Madison|   68.83230904302019|\n",
      "|       Concord|   67.02702702702703|\n",
      "|     Middleton|   66.21621621621621|\n",
      "+--------------+--------------------+\n",
      "only showing top 5 rows\n",
      "\n"
     ]
    }
   ],
   "source": [
    "weekend_friendliness.orderBy(['weekend_friendliness'], ascending=False).show(5)"
   ]
  },
  {
   "cell_type": "markdown",
   "metadata": {},
   "source": [
    "### Step 8a: Define a city's \"nightlife hotness\" as the percentage of businesses whose categories contains “Nightlife”. Create a Spark DataFrame \"nightlife_hotness\" that gives a \"nightlife_hotness\" for each city."
   ]
  },
  {
   "cell_type": "markdown",
   "metadata": {},
   "source": [
    "#### Hint1: use array_contains() to check if an element exists in a JSON array.\n",
    "#### Hint2: use F.when() to make an binary variable to indicate if a business's categories contains \"Nightlife\"."
   ]
  },
  {
   "cell_type": "markdown",
   "metadata": {},
   "source": [
    "The Spark DataFrame should look similar to this:"
   ]
  },
  {
   "cell_type": "markdown",
   "metadata": {},
   "source": [
    "| city | nightlife_hotness |\n",
    "| --- | --- |\n",
    "| San Diego | 0.5 |\n",
    "| Pittsburgh | 0.5 |\n",
    "| ... | ... |\n"
   ]
  },
  {
   "cell_type": "code",
   "execution_count": 148,
   "metadata": {
    "collapsed": true
   },
   "outputs": [],
   "source": [
    "US_large = US_large.withColumn('nightlife indicator', F.when(F.array_contains(US_large['categories'], 'Nightlife'),1)\\\n",
    "                               .otherwise(0))"
   ]
  },
  {
   "cell_type": "code",
   "execution_count": 149,
   "metadata": {
    "collapsed": true
   },
   "outputs": [],
   "source": [
    "nightlife_hotness = US_large.groupBy(['city']).agg({'nightlife indicator': 'avg'})"
   ]
  },
  {
   "cell_type": "markdown",
   "metadata": {},
   "source": [
    "### Step 8b: What are the top 5 cities best for nightlife?"
   ]
  },
  {
   "cell_type": "code",
   "execution_count": 150,
   "metadata": {},
   "outputs": [
    {
     "name": "stdout",
     "output_type": "stream",
     "text": [
      "+----------+------------------+\n",
      "|      city| nightlife_hotness|\n",
      "+----------+------------------+\n",
      "| Homestead| 13.26530612244898|\n",
      "|  Carefree|12.962962962962962|\n",
      "|    Verona|11.940298507462686|\n",
      "|  Carnegie| 11.29032258064516|\n",
      "|Pittsburgh|10.832414553472988|\n",
      "+----------+------------------+\n",
      "only showing top 5 rows\n",
      "\n"
     ]
    }
   ],
   "source": [
    "# rename column\n",
    "nightlife_hotness = nightlife_hotness.withColumnRenamed('avg(nightlife indicator)', 'nightlife_hotness')\n",
    "# multiply by 100 to get a percent\n",
    "nightlife_hotness = nightlife_hotness.withColumn('nightlife_hotness', nightlife_hotness['nightlife_hotness'] * 100)\n",
    "nightlife_hotness.orderBy(['nightlife_hotness'], ascending=False).show(5)"
   ]
  },
  {
   "cell_type": "markdown",
   "metadata": {},
   "source": [
    "### Step 9: Join the 3 DataFrames \"ratings\", \"weekend_friendliness\", and \"nightlife_hotness\". Convert the joined table into Pandas DataFrame."
   ]
  },
  {
   "cell_type": "markdown",
   "metadata": {},
   "source": [
    "| city | avg(stars) | weekend_friendliness | nightlife_hotness |\n",
    "| --- | --- | --- | --- |\n",
    "| San Diego | 0.5 | 0.5 | 3.5 |\n",
    "| Pittsburgh | 0.5 | 0.5 | 3.5 |\n",
    "| ... | ... | ... | ... |\n"
   ]
  },
  {
   "cell_type": "code",
   "execution_count": 151,
   "metadata": {
    "collapsed": true
   },
   "outputs": [],
   "source": [
    "joined = avg_stars_by_city.join(nightlife_hotness, \"city\", 'left')\n",
    "joined = joined.join(weekend_friendliness, \"city\", 'left')\n",
    "joined = joined.toPandas()"
   ]
  },
  {
   "cell_type": "code",
   "execution_count": 152,
   "metadata": {},
   "outputs": [
    {
     "data": {
      "text/html": [
       "<div>\n",
       "<style>\n",
       "    .dataframe thead tr:only-child th {\n",
       "        text-align: right;\n",
       "    }\n",
       "\n",
       "    .dataframe thead th {\n",
       "        text-align: left;\n",
       "    }\n",
       "\n",
       "    .dataframe tbody tr th {\n",
       "        vertical-align: top;\n",
       "    }\n",
       "</style>\n",
       "<table border=\"1\" class=\"dataframe\">\n",
       "  <thead>\n",
       "    <tr style=\"text-align: right;\">\n",
       "      <th></th>\n",
       "      <th>city</th>\n",
       "      <th>avg(stars)</th>\n",
       "      <th>nightlife_hotness</th>\n",
       "      <th>weekend_friendliness</th>\n",
       "    </tr>\n",
       "  </thead>\n",
       "  <tbody>\n",
       "    <tr>\n",
       "      <th>0</th>\n",
       "      <td>Scottsdale</td>\n",
       "      <td>3.906527</td>\n",
       "      <td>6.083718</td>\n",
       "      <td>60.659808</td>\n",
       "    </tr>\n",
       "    <tr>\n",
       "      <th>1</th>\n",
       "      <td>Cave Creek</td>\n",
       "      <td>3.892857</td>\n",
       "      <td>5.263158</td>\n",
       "      <td>58.646617</td>\n",
       "    </tr>\n",
       "    <tr>\n",
       "      <th>2</th>\n",
       "      <td>Verona</td>\n",
       "      <td>3.858209</td>\n",
       "      <td>11.940299</td>\n",
       "      <td>56.716418</td>\n",
       "    </tr>\n",
       "    <tr>\n",
       "      <th>3</th>\n",
       "      <td>Fountain Hills</td>\n",
       "      <td>3.857843</td>\n",
       "      <td>4.901961</td>\n",
       "      <td>52.941176</td>\n",
       "    </tr>\n",
       "    <tr>\n",
       "      <th>4</th>\n",
       "      <td>Litchfield Park</td>\n",
       "      <td>3.816667</td>\n",
       "      <td>5.000000</td>\n",
       "      <td>65.000000</td>\n",
       "    </tr>\n",
       "    <tr>\n",
       "      <th>5</th>\n",
       "      <td>Wickenburg</td>\n",
       "      <td>3.794872</td>\n",
       "      <td>6.410256</td>\n",
       "      <td>46.153846</td>\n",
       "    </tr>\n",
       "    <tr>\n",
       "      <th>6</th>\n",
       "      <td>Carefree</td>\n",
       "      <td>3.787037</td>\n",
       "      <td>12.962963</td>\n",
       "      <td>59.259259</td>\n",
       "    </tr>\n",
       "    <tr>\n",
       "      <th>7</th>\n",
       "      <td>Gilbert</td>\n",
       "      <td>3.786708</td>\n",
       "      <td>2.421432</td>\n",
       "      <td>57.599176</td>\n",
       "    </tr>\n",
       "    <tr>\n",
       "      <th>8</th>\n",
       "      <td>Belmont</td>\n",
       "      <td>3.759036</td>\n",
       "      <td>3.614458</td>\n",
       "      <td>60.240964</td>\n",
       "    </tr>\n",
       "    <tr>\n",
       "      <th>9</th>\n",
       "      <td>Henderson</td>\n",
       "      <td>3.735930</td>\n",
       "      <td>3.084261</td>\n",
       "      <td>58.251192</td>\n",
       "    </tr>\n",
       "  </tbody>\n",
       "</table>\n",
       "</div>"
      ],
      "text/plain": [
       "              city  avg(stars)  nightlife_hotness  weekend_friendliness\n",
       "0       Scottsdale    3.906527           6.083718             60.659808\n",
       "1       Cave Creek    3.892857           5.263158             58.646617\n",
       "2           Verona    3.858209          11.940299             56.716418\n",
       "3   Fountain Hills    3.857843           4.901961             52.941176\n",
       "4  Litchfield Park    3.816667           5.000000             65.000000\n",
       "5       Wickenburg    3.794872           6.410256             46.153846\n",
       "6         Carefree    3.787037          12.962963             59.259259\n",
       "7          Gilbert    3.786708           2.421432             57.599176\n",
       "8          Belmont    3.759036           3.614458             60.240964\n",
       "9        Henderson    3.735930           3.084261             58.251192"
      ]
     },
     "execution_count": 152,
     "metadata": {},
     "output_type": "execute_result"
    }
   ],
   "source": [
    "joined.head(10)"
   ]
  },
  {
   "cell_type": "markdown",
   "metadata": {
    "collapsed": true
   },
   "source": [
    "### Step 10a: Create a pair-wise correlation matrix of \"cities\" using Pandas."
   ]
  },
  {
   "cell_type": "code",
   "execution_count": 153,
   "metadata": {},
   "outputs": [
    {
     "data": {
      "text/html": [
       "<div>\n",
       "<style>\n",
       "    .dataframe thead tr:only-child th {\n",
       "        text-align: right;\n",
       "    }\n",
       "\n",
       "    .dataframe thead th {\n",
       "        text-align: left;\n",
       "    }\n",
       "\n",
       "    .dataframe tbody tr th {\n",
       "        vertical-align: top;\n",
       "    }\n",
       "</style>\n",
       "<table border=\"1\" class=\"dataframe\">\n",
       "  <thead>\n",
       "    <tr style=\"text-align: right;\">\n",
       "      <th></th>\n",
       "      <th>avg(stars)</th>\n",
       "      <th>nightlife_hotness</th>\n",
       "      <th>weekend_friendliness</th>\n",
       "    </tr>\n",
       "  </thead>\n",
       "  <tbody>\n",
       "    <tr>\n",
       "      <th>avg(stars)</th>\n",
       "      <td>1.000000</td>\n",
       "      <td>0.183445</td>\n",
       "      <td>-0.039009</td>\n",
       "    </tr>\n",
       "    <tr>\n",
       "      <th>nightlife_hotness</th>\n",
       "      <td>0.183445</td>\n",
       "      <td>1.000000</td>\n",
       "      <td>0.197281</td>\n",
       "    </tr>\n",
       "    <tr>\n",
       "      <th>weekend_friendliness</th>\n",
       "      <td>-0.039009</td>\n",
       "      <td>0.197281</td>\n",
       "      <td>1.000000</td>\n",
       "    </tr>\n",
       "  </tbody>\n",
       "</table>\n",
       "</div>"
      ],
      "text/plain": [
       "                      avg(stars)  nightlife_hotness  weekend_friendliness\n",
       "avg(stars)              1.000000           0.183445             -0.039009\n",
       "nightlife_hotness       0.183445           1.000000              0.197281\n",
       "weekend_friendliness   -0.039009           0.197281              1.000000"
      ]
     },
     "execution_count": 153,
     "metadata": {},
     "output_type": "execute_result"
    }
   ],
   "source": [
    "joined.corr()"
   ]
  },
  {
   "cell_type": "markdown",
   "metadata": {
    "collapsed": true
   },
   "source": [
    "### Step 10b: Create a pairplot of the three variables in \"cities\"."
   ]
  },
  {
   "cell_type": "code",
   "execution_count": 154,
   "metadata": {
    "collapsed": true
   },
   "outputs": [],
   "source": [
    "import seaborn as sns; sns.set(style=\"ticks\", color_codes=True)\n",
    "%matplotlib inline"
   ]
  },
  {
   "cell_type": "code",
   "execution_count": 155,
   "metadata": {},
   "outputs": [
    {
     "data": {
      "text/plain": [
       "<seaborn.axisgrid.PairGrid at 0x1095d8588>"
      ]
     },
     "execution_count": 155,
     "metadata": {},
     "output_type": "execute_result"
    },
    {
     "data": {
      "image/png": "[encoded data removed]",
      "text/plain": [
       "<matplotlib.figure.Figure at 0x1095e5240>"
      ]
     },
     "metadata": {},
     "output_type": "display_data"
    }
   ],
   "source": [
    "sns.pairplot(joined, diag_kind=\"kde\")"
   ]
  },
  {
   "cell_type": "markdown",
   "metadata": {
    "collapsed": true
   },
   "source": [
    "### Step 10c: What is your interpretation of the correlations? "
   ]
  },
  {
   "cell_type": "markdown",
   "metadata": {
    "collapsed": true
   },
   "source": [
    "None of the pairwise correlations are particularly strong, nor are the scatters. For example, we see that cities with an average rating of 3.5 stars are either not \"friendly\" (40) or particularly friendly (70). Most are about 60. The same applies to nightlife hotness and average stars.\n",
    "\n",
    "Nightlife and weekend friendliness, however, seem to have a positive, if slight, correlation. This makes since -- nightlife venues are typically open on the weekends.\n",
    "\n",
    "To improve this analysis -- so that we can learn something from the data -- you might pursue the following:\n",
    "- Collapse by business type instead of cities. That way you'd see that, on average, across all cities, nightlife venues have higher stars, and tend to be open on the weekend.\n",
    "- Calculate a weighted average stars by city, using the number of reviews.\n",
    "\n"
   ]
  },
  {
   "cell_type": "code",
   "execution_count": 156,
   "metadata": {},
   "outputs": [],
   "source": [
    "all_nightlife = US_large.filter(US_large['nightlife indicator'] == 1).select('weekend indicator', 'stars', 'review_count')\n",
    "all_nightlife = all_nightlife.toPandas()"
   ]
  },
  {
   "cell_type": "code",
   "execution_count": 157,
   "metadata": {},
   "outputs": [
    {
     "data": {
      "text/html": [
       "<div>\n",
       "<style>\n",
       "    .dataframe thead tr:only-child th {\n",
       "        text-align: right;\n",
       "    }\n",
       "\n",
       "    .dataframe thead th {\n",
       "        text-align: left;\n",
       "    }\n",
       "\n",
       "    .dataframe tbody tr th {\n",
       "        vertical-align: top;\n",
       "    }\n",
       "</style>\n",
       "<table border=\"1\" class=\"dataframe\">\n",
       "  <thead>\n",
       "    <tr style=\"text-align: right;\">\n",
       "      <th></th>\n",
       "      <th>weekend indicator</th>\n",
       "      <th>stars</th>\n",
       "      <th>review_count</th>\n",
       "    </tr>\n",
       "  </thead>\n",
       "  <tbody>\n",
       "    <tr>\n",
       "      <th>0</th>\n",
       "      <td>1</td>\n",
       "      <td>4.0</td>\n",
       "      <td>23</td>\n",
       "    </tr>\n",
       "    <tr>\n",
       "      <th>1</th>\n",
       "      <td>1</td>\n",
       "      <td>4.0</td>\n",
       "      <td>10</td>\n",
       "    </tr>\n",
       "    <tr>\n",
       "      <th>2</th>\n",
       "      <td>0</td>\n",
       "      <td>3.5</td>\n",
       "      <td>8</td>\n",
       "    </tr>\n",
       "    <tr>\n",
       "      <th>3</th>\n",
       "      <td>0</td>\n",
       "      <td>2.5</td>\n",
       "      <td>3</td>\n",
       "    </tr>\n",
       "    <tr>\n",
       "      <th>4</th>\n",
       "      <td>1</td>\n",
       "      <td>3.5</td>\n",
       "      <td>32</td>\n",
       "    </tr>\n",
       "    <tr>\n",
       "      <th>5</th>\n",
       "      <td>0</td>\n",
       "      <td>3.5</td>\n",
       "      <td>33</td>\n",
       "    </tr>\n",
       "    <tr>\n",
       "      <th>6</th>\n",
       "      <td>1</td>\n",
       "      <td>2.5</td>\n",
       "      <td>106</td>\n",
       "    </tr>\n",
       "    <tr>\n",
       "      <th>7</th>\n",
       "      <td>1</td>\n",
       "      <td>3.0</td>\n",
       "      <td>45</td>\n",
       "    </tr>\n",
       "    <tr>\n",
       "      <th>8</th>\n",
       "      <td>1</td>\n",
       "      <td>2.5</td>\n",
       "      <td>23</td>\n",
       "    </tr>\n",
       "    <tr>\n",
       "      <th>9</th>\n",
       "      <td>1</td>\n",
       "      <td>3.0</td>\n",
       "      <td>62</td>\n",
       "    </tr>\n",
       "  </tbody>\n",
       "</table>\n",
       "</div>"
      ],
      "text/plain": [
       "   weekend indicator  stars  review_count\n",
       "0                  1    4.0            23\n",
       "1                  1    4.0            10\n",
       "2                  0    3.5             8\n",
       "3                  0    2.5             3\n",
       "4                  1    3.5            32\n",
       "5                  0    3.5            33\n",
       "6                  1    2.5           106\n",
       "7                  1    3.0            45\n",
       "8                  1    2.5            23\n",
       "9                  1    3.0            62"
      ]
     },
     "execution_count": 157,
     "metadata": {},
     "output_type": "execute_result"
    }
   ],
   "source": [
    "all_nightlife.head(10)"
   ]
  },
  {
   "cell_type": "code",
   "execution_count": 158,
   "metadata": {},
   "outputs": [
    {
     "data": {
      "text/html": [
       "<div>\n",
       "<style>\n",
       "    .dataframe thead tr:only-child th {\n",
       "        text-align: right;\n",
       "    }\n",
       "\n",
       "    .dataframe thead th {\n",
       "        text-align: left;\n",
       "    }\n",
       "\n",
       "    .dataframe tbody tr th {\n",
       "        vertical-align: top;\n",
       "    }\n",
       "</style>\n",
       "<table border=\"1\" class=\"dataframe\">\n",
       "  <thead>\n",
       "    <tr style=\"text-align: right;\">\n",
       "      <th></th>\n",
       "      <th>weekend indicator</th>\n",
       "      <th>stars</th>\n",
       "      <th>review_count</th>\n",
       "    </tr>\n",
       "  </thead>\n",
       "  <tbody>\n",
       "    <tr>\n",
       "      <th>weekend indicator</th>\n",
       "      <td>1.000000</td>\n",
       "      <td>0.118772</td>\n",
       "      <td>0.219073</td>\n",
       "    </tr>\n",
       "    <tr>\n",
       "      <th>stars</th>\n",
       "      <td>0.118772</td>\n",
       "      <td>1.000000</td>\n",
       "      <td>0.093374</td>\n",
       "    </tr>\n",
       "    <tr>\n",
       "      <th>review_count</th>\n",
       "      <td>0.219073</td>\n",
       "      <td>0.093374</td>\n",
       "      <td>1.000000</td>\n",
       "    </tr>\n",
       "  </tbody>\n",
       "</table>\n",
       "</div>"
      ],
      "text/plain": [
       "                   weekend indicator     stars  review_count\n",
       "weekend indicator           1.000000  0.118772      0.219073\n",
       "stars                       0.118772  1.000000      0.093374\n",
       "review_count                0.219073  0.093374      1.000000"
      ]
     },
     "execution_count": 158,
     "metadata": {},
     "output_type": "execute_result"
    }
   ],
   "source": [
    "all_nightlife.corr()"
   ]
  },
  {
   "cell_type": "markdown",
   "metadata": {},
   "source": [
    "This correlation matrix confirms some of our analysis in 10c. Weekend indicator and stars are positively correlated (whereas they were negatively correlated previously). We also learn that stars and review count are positively correlated, but not strongly. That suggests that weighting may not improve our analysis that much. But this is only the places with nightlife == 1, and using our entire dataset may tell a different story. Let's do that now:"
   ]
  },
  {
   "cell_type": "code",
   "execution_count": 159,
   "metadata": {},
   "outputs": [
    {
     "name": "stdout",
     "output_type": "stream",
     "text": [
      "+----------+-----------------+\n",
      "|   city_v2|review_count_city|\n",
      "+----------+-----------------+\n",
      "| Las Vegas|            19327|\n",
      "|   Phoenix|            11852|\n",
      "| Charlotte|             5695|\n",
      "|Scottsdale|             5638|\n",
      "|      Mesa|             3638|\n",
      "+----------+-----------------+\n",
      "only showing top 5 rows\n",
      "\n"
     ]
    }
   ],
   "source": [
    "# first, calculate the number of reviews per city. We'll continue to use US_large for consistency and comparability\n",
    "reviews_by_city = US_large.groupBy('city').agg({'review_count': 'count'}).orderBy(['count(review_count)'], ascending=False)\n",
    "reviews_by_city = reviews_by_city.withColumnRenamed('count(review_count)', 'review_count_city')\n",
    "reviews_by_city = reviews_by_city.withColumnRenamed('city', 'city_v2')\n",
    "reviews_by_city.show(5)"
   ]
  },
  {
   "cell_type": "code",
   "execution_count": 160,
   "metadata": {},
   "outputs": [],
   "source": [
    "# Now join column to original RDD (keeping as an RDD, and not a pandas dataframe makes computing easier and faster)\n",
    "US_large = US_large.join(reviews_by_city, US_large.city == reviews_by_city.city_v2)"
   ]
  },
  {
   "cell_type": "code",
   "execution_count": 171,
   "metadata": {},
   "outputs": [
    {
     "ename": "TypeError",
     "evalue": "'Column' object is not callable",
     "output_type": "error",
     "traceback": [
      "\u001b[0;31m---------------------------------------------------------------------------\u001b[0m",
      "\u001b[0;31mTypeError\u001b[0m                                 Traceback (most recent call last)",
      "\u001b[0;32m<ipython-input-171-ae773c9a8224>\u001b[0m in \u001b[0;36m<module>\u001b[0;34m()\u001b[0m\n\u001b[1;32m      1\u001b[0m \u001b[0mUS_large\u001b[0m \u001b[0;34m=\u001b[0m \u001b[0mUS_large\u001b[0m\u001b[0;34m.\u001b[0m\u001b[0mwithColumn\u001b[0m\u001b[0;34m(\u001b[0m\u001b[0;34m'weighting'\u001b[0m\u001b[0;34m,\u001b[0m \u001b[0;34m(\u001b[0m\u001b[0mUS_large\u001b[0m\u001b[0;34m.\u001b[0m\u001b[0mreview_count\u001b[0m\u001b[0;34m/\u001b[0m\u001b[0mUS_large\u001b[0m\u001b[0;34m.\u001b[0m\u001b[0mreview_count_city\u001b[0m\u001b[0;34m)\u001b[0m\u001b[0;34m)\u001b[0m\u001b[0;34m\u001b[0m\u001b[0m\n\u001b[0;32m----> 2\u001b[0;31m \u001b[0mUS_large\u001b[0m\u001b[0;34m.\u001b[0m\u001b[0mweighting\u001b[0m\u001b[0;34m.\u001b[0m\u001b[0mdescribe\u001b[0m\u001b[0;34m(\u001b[0m\u001b[0;34m)\u001b[0m\u001b[0;34m.\u001b[0m\u001b[0mshow\u001b[0m\u001b[0;34m(\u001b[0m\u001b[0;34m)\u001b[0m\u001b[0;34m\u001b[0m\u001b[0m\n\u001b[0m",
      "\u001b[0;31mTypeError\u001b[0m: 'Column' object is not callable"
     ]
    }
   ],
   "source": [
    "US_large = US_large.withColumn('weighting', (US_large.review_count/US_large.review_count_city))\n",
    "US_large.weighting.describe().show()"
   ]
  },
  {
   "cell_type": "code",
   "execution_count": 161,
   "metadata": {
    "collapsed": true
   },
   "outputs": [],
   "source": [
    "# Now calculate the weighted average of review (at city level) for each business\n",
    "US_large = US_large.withColumn('weighted stars', US_large.stars*(US_large.review_count/US_large.review_count_city))"
   ]
  },
  {
   "cell_type": "code",
   "execution_count": 162,
   "metadata": {},
   "outputs": [
    {
     "name": "stdout",
     "output_type": "stream",
     "text": [
      "+--------------------+--------------------+--------------------+--------+--------------------+--------------------+----------+-----------+--------------------+-------------+----+------------+-----+-----+--------+-----------------+-------------------+--------+-----------------+------------------+\n",
      "|          attributes|         business_id|          categories|    city|        full_address|               hours|  latitude|  longitude|                name|neighborhoods|open|review_count|stars|state|    type|weekend indicator|nightlife indicator| city_v2|review_count_city|    weighted stars|\n",
      "+--------------------+--------------------+--------------------+--------+--------------------+--------------------+----------+-----------+--------------------+-------------+----+------------+-----+-----+--------+-----------------+-------------------+--------+-----------------+------------------+\n",
      "|[true,null,null,f...|KayYbHCt-RkbGcPdG...|[Bars, American (...|Carnegie|141 Hawthorne St\n",
      "...|[[02:00,11:00],[0...|40.4154859|-80.0675491|Alexion's Bar & G...|  [Greentree]|true|          23|  4.0|   PA|business|                1|                  1|Carnegie|               62|1.4838709677419355|\n",
      "+--------------------+--------------------+--------------------+--------+--------------------+--------------------+----------+-----------+--------------------+-------------+----+------------+-----+-----+--------+-----------------+-------------------+--------+-----------------+------------------+\n",
      "only showing top 1 row\n",
      "\n"
     ]
    }
   ],
   "source": [
    "US_large.show(1)"
   ]
  },
  {
   "cell_type": "code",
   "execution_count": 167,
   "metadata": {},
   "outputs": [
    {
     "name": "stdout",
     "output_type": "stream",
     "text": [
      "+-----------+-------------------+\n",
      "|    city_v2|sum(weighted stars)|\n",
      "+-----------+-------------------+\n",
      "|  El Mirage|  44.59523809523809|\n",
      "|  Mint Hill|              45.66|\n",
      "|   Sun City|   46.0674603174603|\n",
      "|    Buckeye|  48.49693251533742|\n",
      "|Casa Grande|  49.51990049751245|\n",
      "+-----------+-------------------+\n",
      "only showing top 5 rows\n",
      "\n"
     ]
    }
   ],
   "source": [
    "# Now groupby city\n",
    "wavg_stars_by_city = US_large.groupBy('city_v2').agg({'weighted stars': 'sum'}).orderBy(['sum(weighted stars)'], ascending=True)\n",
    "wavg_stars_by_city.show(5)"
   ]
  },
  {
   "cell_type": "markdown",
   "metadata": {},
   "source": [
    "### Above and Beyond\n",
    "I ran out of time this week -- I was dealing with a personal issue on Sunday/Monday -- but you can see that I started to do some above and beyond work. Please consider this for several points (of course, not the full 20%). Thanks. Anthony"
   ]
  },
  {
   "cell_type": "markdown",
   "metadata": {},
   "source": [
    "# END OF HOMEWORK 5"
   ]
  }
 ],
 "metadata": {
  "kernelspec": {
   "display_name": "Python 3",
   "language": "python",
   "name": "python3"
  },
  "language_info": {
   "codemirror_mode": {
    "name": "ipython",
    "version": 3
   },
   "file_extension": ".py",
   "mimetype": "text/x-python",
   "name": "python",
   "nbconvert_exporter": "python",
   "pygments_lexer": "ipython3",
   "version": "3.6.3"
  }
 },
 "nbformat": 4,
 "nbformat_minor": 2
}
